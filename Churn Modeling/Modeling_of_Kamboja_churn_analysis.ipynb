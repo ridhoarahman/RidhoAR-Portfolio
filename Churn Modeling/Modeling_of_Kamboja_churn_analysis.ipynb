{
  "nbformat": 4,
  "nbformat_minor": 0,
  "metadata": {
    "colab": {
      "name": "Modeling of Kamboja_churn-analysis.ipynb",
      "provenance": [],
      "collapsed_sections": [],
      "toc_visible": true
    },
    "kernelspec": {
      "name": "python3",
      "display_name": "Python 3"
    },
    "language_info": {
      "name": "python"
    }
  },
  "cells": [
    {
      "cell_type": "code",
      "metadata": {
        "id": "g1VOxAb8w6U-"
      },
      "source": [
        "import pandas as pd\n",
        "import matplotlib.pyplot as plt\n",
        "import seaborn as sns"
      ],
      "execution_count": null,
      "outputs": []
    },
    {
      "cell_type": "markdown",
      "metadata": {
        "id": "px_aqpt3QBYx"
      },
      "source": [
        "#Data"
      ]
    },
    {
      "cell_type": "markdown",
      "metadata": {
        "id": "6ig4IAORQkwv"
      },
      "source": [
        "##Data Loading"
      ]
    },
    {
      "cell_type": "code",
      "metadata": {
        "colab": {
          "base_uri": "https://localhost:8080/",
          "height": 437
        },
        "id": "YC6Ib2Nou941",
        "outputId": "6a1522e3-941c-47a4-dacc-067f8320ea28"
      },
      "source": [
        "# data = pd.read_csv(\"/content/drive/MyDrive/Data Science - DS/Churn_Modelling.csv\")\n",
        "data = pd.read_csv(\"https://raw.githubusercontent.com/sharmaroshan/Churn-Modelling-Dataset/master/Churn_Modelling.csv\")\n",
        "data"
      ],
      "execution_count": null,
      "outputs": [
        {
          "output_type": "execute_result",
          "data": {
            "text/html": [
              "<div>\n",
              "<style scoped>\n",
              "    .dataframe tbody tr th:only-of-type {\n",
              "        vertical-align: middle;\n",
              "    }\n",
              "\n",
              "    .dataframe tbody tr th {\n",
              "        vertical-align: top;\n",
              "    }\n",
              "\n",
              "    .dataframe thead th {\n",
              "        text-align: right;\n",
              "    }\n",
              "</style>\n",
              "<table border=\"1\" class=\"dataframe\">\n",
              "  <thead>\n",
              "    <tr style=\"text-align: right;\">\n",
              "      <th></th>\n",
              "      <th>RowNumber</th>\n",
              "      <th>CustomerId</th>\n",
              "      <th>Surname</th>\n",
              "      <th>CreditScore</th>\n",
              "      <th>Geography</th>\n",
              "      <th>Gender</th>\n",
              "      <th>Age</th>\n",
              "      <th>Tenure</th>\n",
              "      <th>Balance</th>\n",
              "      <th>NumOfProducts</th>\n",
              "      <th>HasCrCard</th>\n",
              "      <th>IsActiveMember</th>\n",
              "      <th>EstimatedSalary</th>\n",
              "      <th>Exited</th>\n",
              "    </tr>\n",
              "  </thead>\n",
              "  <tbody>\n",
              "    <tr>\n",
              "      <th>0</th>\n",
              "      <td>1</td>\n",
              "      <td>15634602</td>\n",
              "      <td>Hargrave</td>\n",
              "      <td>619</td>\n",
              "      <td>France</td>\n",
              "      <td>Female</td>\n",
              "      <td>42</td>\n",
              "      <td>2</td>\n",
              "      <td>0.00</td>\n",
              "      <td>1</td>\n",
              "      <td>1</td>\n",
              "      <td>1</td>\n",
              "      <td>101348.88</td>\n",
              "      <td>1</td>\n",
              "    </tr>\n",
              "    <tr>\n",
              "      <th>1</th>\n",
              "      <td>2</td>\n",
              "      <td>15647311</td>\n",
              "      <td>Hill</td>\n",
              "      <td>608</td>\n",
              "      <td>Spain</td>\n",
              "      <td>Female</td>\n",
              "      <td>41</td>\n",
              "      <td>1</td>\n",
              "      <td>83807.86</td>\n",
              "      <td>1</td>\n",
              "      <td>0</td>\n",
              "      <td>1</td>\n",
              "      <td>112542.58</td>\n",
              "      <td>0</td>\n",
              "    </tr>\n",
              "    <tr>\n",
              "      <th>2</th>\n",
              "      <td>3</td>\n",
              "      <td>15619304</td>\n",
              "      <td>Onio</td>\n",
              "      <td>502</td>\n",
              "      <td>France</td>\n",
              "      <td>Female</td>\n",
              "      <td>42</td>\n",
              "      <td>8</td>\n",
              "      <td>159660.80</td>\n",
              "      <td>3</td>\n",
              "      <td>1</td>\n",
              "      <td>0</td>\n",
              "      <td>113931.57</td>\n",
              "      <td>1</td>\n",
              "    </tr>\n",
              "    <tr>\n",
              "      <th>3</th>\n",
              "      <td>4</td>\n",
              "      <td>15701354</td>\n",
              "      <td>Boni</td>\n",
              "      <td>699</td>\n",
              "      <td>France</td>\n",
              "      <td>Female</td>\n",
              "      <td>39</td>\n",
              "      <td>1</td>\n",
              "      <td>0.00</td>\n",
              "      <td>2</td>\n",
              "      <td>0</td>\n",
              "      <td>0</td>\n",
              "      <td>93826.63</td>\n",
              "      <td>0</td>\n",
              "    </tr>\n",
              "    <tr>\n",
              "      <th>4</th>\n",
              "      <td>5</td>\n",
              "      <td>15737888</td>\n",
              "      <td>Mitchell</td>\n",
              "      <td>850</td>\n",
              "      <td>Spain</td>\n",
              "      <td>Female</td>\n",
              "      <td>43</td>\n",
              "      <td>2</td>\n",
              "      <td>125510.82</td>\n",
              "      <td>1</td>\n",
              "      <td>1</td>\n",
              "      <td>1</td>\n",
              "      <td>79084.10</td>\n",
              "      <td>0</td>\n",
              "    </tr>\n",
              "    <tr>\n",
              "      <th>...</th>\n",
              "      <td>...</td>\n",
              "      <td>...</td>\n",
              "      <td>...</td>\n",
              "      <td>...</td>\n",
              "      <td>...</td>\n",
              "      <td>...</td>\n",
              "      <td>...</td>\n",
              "      <td>...</td>\n",
              "      <td>...</td>\n",
              "      <td>...</td>\n",
              "      <td>...</td>\n",
              "      <td>...</td>\n",
              "      <td>...</td>\n",
              "      <td>...</td>\n",
              "    </tr>\n",
              "    <tr>\n",
              "      <th>9995</th>\n",
              "      <td>9996</td>\n",
              "      <td>15606229</td>\n",
              "      <td>Obijiaku</td>\n",
              "      <td>771</td>\n",
              "      <td>France</td>\n",
              "      <td>Male</td>\n",
              "      <td>39</td>\n",
              "      <td>5</td>\n",
              "      <td>0.00</td>\n",
              "      <td>2</td>\n",
              "      <td>1</td>\n",
              "      <td>0</td>\n",
              "      <td>96270.64</td>\n",
              "      <td>0</td>\n",
              "    </tr>\n",
              "    <tr>\n",
              "      <th>9996</th>\n",
              "      <td>9997</td>\n",
              "      <td>15569892</td>\n",
              "      <td>Johnstone</td>\n",
              "      <td>516</td>\n",
              "      <td>France</td>\n",
              "      <td>Male</td>\n",
              "      <td>35</td>\n",
              "      <td>10</td>\n",
              "      <td>57369.61</td>\n",
              "      <td>1</td>\n",
              "      <td>1</td>\n",
              "      <td>1</td>\n",
              "      <td>101699.77</td>\n",
              "      <td>0</td>\n",
              "    </tr>\n",
              "    <tr>\n",
              "      <th>9997</th>\n",
              "      <td>9998</td>\n",
              "      <td>15584532</td>\n",
              "      <td>Liu</td>\n",
              "      <td>709</td>\n",
              "      <td>France</td>\n",
              "      <td>Female</td>\n",
              "      <td>36</td>\n",
              "      <td>7</td>\n",
              "      <td>0.00</td>\n",
              "      <td>1</td>\n",
              "      <td>0</td>\n",
              "      <td>1</td>\n",
              "      <td>42085.58</td>\n",
              "      <td>1</td>\n",
              "    </tr>\n",
              "    <tr>\n",
              "      <th>9998</th>\n",
              "      <td>9999</td>\n",
              "      <td>15682355</td>\n",
              "      <td>Sabbatini</td>\n",
              "      <td>772</td>\n",
              "      <td>Germany</td>\n",
              "      <td>Male</td>\n",
              "      <td>42</td>\n",
              "      <td>3</td>\n",
              "      <td>75075.31</td>\n",
              "      <td>2</td>\n",
              "      <td>1</td>\n",
              "      <td>0</td>\n",
              "      <td>92888.52</td>\n",
              "      <td>1</td>\n",
              "    </tr>\n",
              "    <tr>\n",
              "      <th>9999</th>\n",
              "      <td>10000</td>\n",
              "      <td>15628319</td>\n",
              "      <td>Walker</td>\n",
              "      <td>792</td>\n",
              "      <td>France</td>\n",
              "      <td>Female</td>\n",
              "      <td>28</td>\n",
              "      <td>4</td>\n",
              "      <td>130142.79</td>\n",
              "      <td>1</td>\n",
              "      <td>1</td>\n",
              "      <td>0</td>\n",
              "      <td>38190.78</td>\n",
              "      <td>0</td>\n",
              "    </tr>\n",
              "  </tbody>\n",
              "</table>\n",
              "<p>10000 rows × 14 columns</p>\n",
              "</div>"
            ],
            "text/plain": [
              "      RowNumber  CustomerId    Surname  ...  IsActiveMember EstimatedSalary Exited\n",
              "0             1    15634602   Hargrave  ...               1       101348.88      1\n",
              "1             2    15647311       Hill  ...               1       112542.58      0\n",
              "2             3    15619304       Onio  ...               0       113931.57      1\n",
              "3             4    15701354       Boni  ...               0        93826.63      0\n",
              "4             5    15737888   Mitchell  ...               1        79084.10      0\n",
              "...         ...         ...        ...  ...             ...             ...    ...\n",
              "9995       9996    15606229   Obijiaku  ...               0        96270.64      0\n",
              "9996       9997    15569892  Johnstone  ...               1       101699.77      0\n",
              "9997       9998    15584532        Liu  ...               1        42085.58      1\n",
              "9998       9999    15682355  Sabbatini  ...               0        92888.52      1\n",
              "9999      10000    15628319     Walker  ...               0        38190.78      0\n",
              "\n",
              "[10000 rows x 14 columns]"
            ]
          },
          "metadata": {},
          "execution_count": 2
        }
      ]
    },
    {
      "cell_type": "markdown",
      "metadata": {
        "id": "2C0unEeNQPXv"
      },
      "source": [
        "##Descriptive Statistic"
      ]
    },
    {
      "cell_type": "code",
      "metadata": {
        "colab": {
          "base_uri": "https://localhost:8080/",
          "height": 315
        },
        "id": "dzUPP5zWLRRs",
        "outputId": "3e67af32-e7d3-4722-ae80-9dca97929d71"
      },
      "source": [
        "data.describe()"
      ],
      "execution_count": null,
      "outputs": [
        {
          "output_type": "execute_result",
          "data": {
            "text/html": [
              "<div>\n",
              "<style scoped>\n",
              "    .dataframe tbody tr th:only-of-type {\n",
              "        vertical-align: middle;\n",
              "    }\n",
              "\n",
              "    .dataframe tbody tr th {\n",
              "        vertical-align: top;\n",
              "    }\n",
              "\n",
              "    .dataframe thead th {\n",
              "        text-align: right;\n",
              "    }\n",
              "</style>\n",
              "<table border=\"1\" class=\"dataframe\">\n",
              "  <thead>\n",
              "    <tr style=\"text-align: right;\">\n",
              "      <th></th>\n",
              "      <th>RowNumber</th>\n",
              "      <th>CustomerId</th>\n",
              "      <th>CreditScore</th>\n",
              "      <th>Age</th>\n",
              "      <th>Tenure</th>\n",
              "      <th>Balance</th>\n",
              "      <th>NumOfProducts</th>\n",
              "      <th>HasCrCard</th>\n",
              "      <th>IsActiveMember</th>\n",
              "      <th>EstimatedSalary</th>\n",
              "      <th>Exited</th>\n",
              "    </tr>\n",
              "  </thead>\n",
              "  <tbody>\n",
              "    <tr>\n",
              "      <th>count</th>\n",
              "      <td>10000.00000</td>\n",
              "      <td>1.000000e+04</td>\n",
              "      <td>10000.000000</td>\n",
              "      <td>10000.000000</td>\n",
              "      <td>10000.000000</td>\n",
              "      <td>10000.000000</td>\n",
              "      <td>10000.000000</td>\n",
              "      <td>10000.00000</td>\n",
              "      <td>10000.000000</td>\n",
              "      <td>10000.000000</td>\n",
              "      <td>10000.000000</td>\n",
              "    </tr>\n",
              "    <tr>\n",
              "      <th>mean</th>\n",
              "      <td>5000.50000</td>\n",
              "      <td>1.569094e+07</td>\n",
              "      <td>650.528800</td>\n",
              "      <td>38.921800</td>\n",
              "      <td>5.012800</td>\n",
              "      <td>76485.889288</td>\n",
              "      <td>1.530200</td>\n",
              "      <td>0.70550</td>\n",
              "      <td>0.515100</td>\n",
              "      <td>100090.239881</td>\n",
              "      <td>0.203700</td>\n",
              "    </tr>\n",
              "    <tr>\n",
              "      <th>std</th>\n",
              "      <td>2886.89568</td>\n",
              "      <td>7.193619e+04</td>\n",
              "      <td>96.653299</td>\n",
              "      <td>10.487806</td>\n",
              "      <td>2.892174</td>\n",
              "      <td>62397.405202</td>\n",
              "      <td>0.581654</td>\n",
              "      <td>0.45584</td>\n",
              "      <td>0.499797</td>\n",
              "      <td>57510.492818</td>\n",
              "      <td>0.402769</td>\n",
              "    </tr>\n",
              "    <tr>\n",
              "      <th>min</th>\n",
              "      <td>1.00000</td>\n",
              "      <td>1.556570e+07</td>\n",
              "      <td>350.000000</td>\n",
              "      <td>18.000000</td>\n",
              "      <td>0.000000</td>\n",
              "      <td>0.000000</td>\n",
              "      <td>1.000000</td>\n",
              "      <td>0.00000</td>\n",
              "      <td>0.000000</td>\n",
              "      <td>11.580000</td>\n",
              "      <td>0.000000</td>\n",
              "    </tr>\n",
              "    <tr>\n",
              "      <th>25%</th>\n",
              "      <td>2500.75000</td>\n",
              "      <td>1.562853e+07</td>\n",
              "      <td>584.000000</td>\n",
              "      <td>32.000000</td>\n",
              "      <td>3.000000</td>\n",
              "      <td>0.000000</td>\n",
              "      <td>1.000000</td>\n",
              "      <td>0.00000</td>\n",
              "      <td>0.000000</td>\n",
              "      <td>51002.110000</td>\n",
              "      <td>0.000000</td>\n",
              "    </tr>\n",
              "    <tr>\n",
              "      <th>50%</th>\n",
              "      <td>5000.50000</td>\n",
              "      <td>1.569074e+07</td>\n",
              "      <td>652.000000</td>\n",
              "      <td>37.000000</td>\n",
              "      <td>5.000000</td>\n",
              "      <td>97198.540000</td>\n",
              "      <td>1.000000</td>\n",
              "      <td>1.00000</td>\n",
              "      <td>1.000000</td>\n",
              "      <td>100193.915000</td>\n",
              "      <td>0.000000</td>\n",
              "    </tr>\n",
              "    <tr>\n",
              "      <th>75%</th>\n",
              "      <td>7500.25000</td>\n",
              "      <td>1.575323e+07</td>\n",
              "      <td>718.000000</td>\n",
              "      <td>44.000000</td>\n",
              "      <td>7.000000</td>\n",
              "      <td>127644.240000</td>\n",
              "      <td>2.000000</td>\n",
              "      <td>1.00000</td>\n",
              "      <td>1.000000</td>\n",
              "      <td>149388.247500</td>\n",
              "      <td>0.000000</td>\n",
              "    </tr>\n",
              "    <tr>\n",
              "      <th>max</th>\n",
              "      <td>10000.00000</td>\n",
              "      <td>1.581569e+07</td>\n",
              "      <td>850.000000</td>\n",
              "      <td>92.000000</td>\n",
              "      <td>10.000000</td>\n",
              "      <td>250898.090000</td>\n",
              "      <td>4.000000</td>\n",
              "      <td>1.00000</td>\n",
              "      <td>1.000000</td>\n",
              "      <td>199992.480000</td>\n",
              "      <td>1.000000</td>\n",
              "    </tr>\n",
              "  </tbody>\n",
              "</table>\n",
              "</div>"
            ],
            "text/plain": [
              "         RowNumber    CustomerId  ...  EstimatedSalary        Exited\n",
              "count  10000.00000  1.000000e+04  ...     10000.000000  10000.000000\n",
              "mean    5000.50000  1.569094e+07  ...    100090.239881      0.203700\n",
              "std     2886.89568  7.193619e+04  ...     57510.492818      0.402769\n",
              "min        1.00000  1.556570e+07  ...        11.580000      0.000000\n",
              "25%     2500.75000  1.562853e+07  ...     51002.110000      0.000000\n",
              "50%     5000.50000  1.569074e+07  ...    100193.915000      0.000000\n",
              "75%     7500.25000  1.575323e+07  ...    149388.247500      0.000000\n",
              "max    10000.00000  1.581569e+07  ...    199992.480000      1.000000\n",
              "\n",
              "[8 rows x 11 columns]"
            ]
          },
          "metadata": {},
          "execution_count": 3
        }
      ]
    },
    {
      "cell_type": "code",
      "metadata": {
        "colab": {
          "base_uri": "https://localhost:8080/"
        },
        "id": "MaTS-rFP85ie",
        "outputId": "5bead24b-7995-46d9-efe6-5f3ca09e89e6"
      },
      "source": [
        "data.info()"
      ],
      "execution_count": null,
      "outputs": [
        {
          "output_type": "stream",
          "name": "stdout",
          "text": [
            "<class 'pandas.core.frame.DataFrame'>\n",
            "RangeIndex: 10000 entries, 0 to 9999\n",
            "Data columns (total 14 columns):\n",
            " #   Column           Non-Null Count  Dtype  \n",
            "---  ------           --------------  -----  \n",
            " 0   RowNumber        10000 non-null  int64  \n",
            " 1   CustomerId       10000 non-null  int64  \n",
            " 2   Surname          10000 non-null  object \n",
            " 3   CreditScore      10000 non-null  int64  \n",
            " 4   Geography        10000 non-null  object \n",
            " 5   Gender           10000 non-null  object \n",
            " 6   Age              10000 non-null  int64  \n",
            " 7   Tenure           10000 non-null  int64  \n",
            " 8   Balance          10000 non-null  float64\n",
            " 9   NumOfProducts    10000 non-null  int64  \n",
            " 10  HasCrCard        10000 non-null  int64  \n",
            " 11  IsActiveMember   10000 non-null  int64  \n",
            " 12  EstimatedSalary  10000 non-null  float64\n",
            " 13  Exited           10000 non-null  int64  \n",
            "dtypes: float64(2), int64(9), object(3)\n",
            "memory usage: 1.1+ MB\n"
          ]
        }
      ]
    },
    {
      "cell_type": "markdown",
      "metadata": {
        "id": "RJQW1-wpUeac"
      },
      "source": [
        "# Visualization"
      ]
    },
    {
      "cell_type": "markdown",
      "metadata": {
        "id": "ayhqzN3wQTY_"
      },
      "source": [
        "##Correlation"
      ]
    },
    {
      "cell_type": "code",
      "metadata": {
        "colab": {
          "base_uri": "https://localhost:8080/",
          "height": 776
        },
        "id": "dXOVbZQ3DLxe",
        "outputId": "c5a13e9b-9634-40d5-f05c-9493b7fa353e"
      },
      "source": [
        "corr = data.corr()\n",
        "plt.figure(figsize=(12,12))\n",
        "sns.heatmap(corr,\n",
        "            vmin=-1,\n",
        "            cmap='coolwarm',\n",
        "            annot=True);"
      ],
      "execution_count": null,
      "outputs": [
        {
          "output_type": "display_data",
          "data": {
            "image/png": "[encoded data removed]",
            "text/plain": [
              "<Figure size 864x864 with 2 Axes>"
            ]
          },
          "metadata": {
            "needs_background": "light"
          }
        }
      ]
    },
    {
      "cell_type": "markdown",
      "metadata": {
        "id": "G_zrjCBOgOqt"
      },
      "source": [
        "##Churn VS Stay"
      ]
    },
    {
      "cell_type": "code",
      "metadata": {
        "colab": {
          "base_uri": "https://localhost:8080/",
          "height": 248
        },
        "id": "wbs9AEUdgT7M",
        "outputId": "811069f8-b4da-4dcc-a9f1-a4b2716390b0"
      },
      "source": [
        "plt.pie(data['Exited'])\n",
        "plt.show()"
      ],
      "execution_count": null,
      "outputs": [
        {
          "output_type": "display_data",
          "data": {
            "image/png": "[encoded data removed]",
            "text/plain": [
              "<Figure size 432x288 with 1 Axes>"
            ]
          },
          "metadata": {}
        }
      ]
    },
    {
      "cell_type": "markdown",
      "metadata": {
        "id": "2_eg7v0fVK6O"
      },
      "source": [
        "##Gender and Geography"
      ]
    },
    {
      "cell_type": "code",
      "metadata": {
        "colab": {
          "base_uri": "https://localhost:8080/",
          "height": 541
        },
        "id": "owkrQFOeIw8y",
        "outputId": "8abd0caa-664f-4d16-cf23-bfc22171f90c"
      },
      "source": [
        "sns.histplot(data['Gender'])\n",
        "plt.show()\n",
        "\n",
        "sns.histplot(data['Geography'])\n",
        "plt.show()"
      ],
      "execution_count": null,
      "outputs": [
        {
          "output_type": "display_data",
          "data": {
            "image/png": "[encoded data removed]",
            "text/plain": [
              "<Figure size 432x288 with 1 Axes>"
            ]
          },
          "metadata": {
            "needs_background": "light"
          }
        },
        {
          "output_type": "display_data",
          "data": {
            "image/png": "[encoded data removed]",
            "text/plain": [
              "<Figure size 432x288 with 1 Axes>"
            ]
          },
          "metadata": {
            "needs_background": "light"
          }
        }
      ]
    },
    {
      "cell_type": "markdown",
      "metadata": {
        "id": "CoTLf-KDVTEc"
      },
      "source": [
        "##Gender and Geography who Exited"
      ]
    },
    {
      "cell_type": "code",
      "metadata": {
        "colab": {
          "base_uri": "https://localhost:8080/",
          "height": 541
        },
        "id": "TppoowAkwI9v",
        "outputId": "94220175-3df3-48fb-8d05-13dc91434be3"
      },
      "source": [
        "sns.barplot(x=data['Geography'], y=data['Exited'], estimator = sum)\n",
        "plt.show()\n",
        "sns.barplot(x=data['Gender'], y=data['Exited'], estimator = sum)\n",
        "plt.show()"
      ],
      "execution_count": null,
      "outputs": [
        {
          "output_type": "display_data",
          "data": {
            "image/png": "[encoded data removed]",
            "text/plain": [
              "<Figure size 432x288 with 1 Axes>"
            ]
          },
          "metadata": {
            "needs_background": "light"
          }
        },
        {
          "output_type": "display_data",
          "data": {
            "image/png": "[encoded data removed]",
            "text/plain": [
              "<Figure size 432x288 with 1 Axes>"
            ]
          },
          "metadata": {
            "needs_background": "light"
          }
        }
      ]
    },
    {
      "cell_type": "code",
      "metadata": {
        "colab": {
          "base_uri": "https://localhost:8080/",
          "height": 142
        },
        "id": "s7YUDsR42jVL",
        "outputId": "e54736cf-91fd-4ea9-cce0-f3108f32ebf4"
      },
      "source": [
        "df = data.groupby(['Gender', 'Exited']).size().reset_index().pivot(columns='Gender', index='Exited', values=0)\n",
        "df"
      ],
      "execution_count": null,
      "outputs": [
        {
          "output_type": "execute_result",
          "data": {
            "text/html": [
              "<div>\n",
              "<style scoped>\n",
              "    .dataframe tbody tr th:only-of-type {\n",
              "        vertical-align: middle;\n",
              "    }\n",
              "\n",
              "    .dataframe tbody tr th {\n",
              "        vertical-align: top;\n",
              "    }\n",
              "\n",
              "    .dataframe thead th {\n",
              "        text-align: right;\n",
              "    }\n",
              "</style>\n",
              "<table border=\"1\" class=\"dataframe\">\n",
              "  <thead>\n",
              "    <tr style=\"text-align: right;\">\n",
              "      <th>Gender</th>\n",
              "      <th>Female</th>\n",
              "      <th>Male</th>\n",
              "    </tr>\n",
              "    <tr>\n",
              "      <th>Exited</th>\n",
              "      <th></th>\n",
              "      <th></th>\n",
              "    </tr>\n",
              "  </thead>\n",
              "  <tbody>\n",
              "    <tr>\n",
              "      <th>0</th>\n",
              "      <td>3404</td>\n",
              "      <td>4559</td>\n",
              "    </tr>\n",
              "    <tr>\n",
              "      <th>1</th>\n",
              "      <td>1139</td>\n",
              "      <td>898</td>\n",
              "    </tr>\n",
              "  </tbody>\n",
              "</table>\n",
              "</div>"
            ],
            "text/plain": [
              "Gender  Female  Male\n",
              "Exited              \n",
              "0         3404  4559\n",
              "1         1139   898"
            ]
          },
          "metadata": {},
          "execution_count": 35
        }
      ]
    },
    {
      "cell_type": "markdown",
      "metadata": {
        "id": "Kcj2-ot2VlOD"
      },
      "source": [
        "##Box  Plot"
      ]
    },
    {
      "cell_type": "code",
      "metadata": {
        "colab": {
          "base_uri": "https://localhost:8080/",
          "height": 1000
        },
        "id": "0SG2qpxq7lI0",
        "outputId": "333e0cd3-bb2b-428a-ff17-aea746fa4d05"
      },
      "source": [
        "for column in data:\n",
        "    if data[column].dtypes == 'int64' or data[column].dtypes == 'float64':\n",
        "        print(column)\n",
        "        sns.boxplot(x = column, data = data)\n",
        "        plt.show()"
      ],
      "execution_count": null,
      "outputs": [
        {
          "output_type": "stream",
          "name": "stdout",
          "text": [
            "RowNumber\n"
          ]
        },
        {
          "output_type": "display_data",
          "data": {
            "image/png": "[encoded data removed]",
            "text/plain": [
              "<Figure size 432x288 with 1 Axes>"
            ]
          },
          "metadata": {
            "needs_background": "light"
          }
        },
        {
          "output_type": "stream",
          "name": "stdout",
          "text": [
            "CustomerId\n"
          ]
        },
        {
          "output_type": "display_data",
          "data": {
            "image/png": "[encoded data removed]",
            "text/plain": [
              "<Figure size 432x288 with 1 Axes>"
            ]
          },
          "metadata": {
            "needs_background": "light"
          }
        },
        {
          "output_type": "stream",
          "name": "stdout",
          "text": [
            "CreditScore\n"
          ]
        },
        {
          "output_type": "display_data",
          "data": {
            "image/png": "[encoded data removed]",
            "text/plain": [
              "<Figure size 432x288 with 1 Axes>"
            ]
          },
          "metadata": {
            "needs_background": "light"
          }
        },
        {
          "output_type": "stream",
          "name": "stdout",
          "text": [
            "Age\n"
          ]
        },
        {
          "output_type": "display_data",
          "data": {
            "image/png": "[encoded data removed]",
            "text/plain": [
              "<Figure size 432x288 with 1 Axes>"
            ]
          },
          "metadata": {
            "needs_background": "light"
          }
        },
        {
          "output_type": "stream",
          "name": "stdout",
          "text": [
            "Tenure\n"
          ]
        },
        {
          "output_type": "display_data",
          "data": {
            "image/png": "[encoded data removed]",
            "text/plain": [
              "<Figure size 432x288 with 1 Axes>"
            ]
          },
          "metadata": {
            "needs_background": "light"
          }
        },
        {
          "output_type": "stream",
          "name": "stdout",
          "text": [
            "Balance\n"
          ]
        },
        {
          "output_type": "display_data",
          "data": {
            "image/png": "[encoded data removed]",
            "text/plain": [
              "<Figure size 432x288 with 1 Axes>"
            ]
          },
          "metadata": {
            "needs_background": "light"
          }
        },
        {
          "output_type": "stream",
          "name": "stdout",
          "text": [
            "NumOfProducts\n"
          ]
        },
        {
          "output_type": "display_data",
          "data": {
            "image/png": "[encoded data removed]",
            "text/plain": [
              "<Figure size 432x288 with 1 Axes>"
            ]
          },
          "metadata": {
            "needs_background": "light"
          }
        },
        {
          "output_type": "stream",
          "name": "stdout",
          "text": [
            "HasCrCard\n"
          ]
        },
        {
          "output_type": "display_data",
          "data": {
            "image/png": "[encoded data removed]",
            "text/plain": [
              "<Figure size 432x288 with 1 Axes>"
            ]
          },
          "metadata": {
            "needs_background": "light"
          }
        },
        {
          "output_type": "stream",
          "name": "stdout",
          "text": [
            "IsActiveMember\n"
          ]
        },
        {
          "output_type": "display_data",
          "data": {
            "image/png": "[encoded data removed]",
            "text/plain": [
              "<Figure size 432x288 with 1 Axes>"
            ]
          },
          "metadata": {
            "needs_background": "light"
          }
        },
        {
          "output_type": "stream",
          "name": "stdout",
          "text": [
            "EstimatedSalary\n"
          ]
        },
        {
          "output_type": "display_data",
          "data": {
            "image/png": "[encoded data removed]",
            "text/plain": [
              "<Figure size 432x288 with 1 Axes>"
            ]
          },
          "metadata": {
            "needs_background": "light"
          }
        },
        {
          "output_type": "stream",
          "name": "stdout",
          "text": [
            "Exited\n"
          ]
        },
        {
          "output_type": "display_data",
          "data": {
            "image/png": "[encoded data removed]",
            "text/plain": [
              "<Figure size 432x288 with 1 Axes>"
            ]
          },
          "metadata": {
            "needs_background": "light"
          }
        }
      ]
    },
    {
      "cell_type": "markdown",
      "metadata": {
        "id": "niQaJRDBYvE8"
      },
      "source": [
        "##Distribution"
      ]
    },
    {
      "cell_type": "code",
      "metadata": {
        "colab": {
          "base_uri": "https://localhost:8080/",
          "height": 1000
        },
        "id": "VrepPhvLJhqk",
        "outputId": "0022d868-1a76-4b6e-d503-9478ae4eb540"
      },
      "source": [
        "# distribution\n",
        "for column in data:\n",
        "    if data[column].dtypes == 'int64' or data[column].dtypes == 'float64':\n",
        "        print(column)\n",
        "        sns.histplot(data[column])\n",
        "        plt.show()\n"
      ],
      "execution_count": null,
      "outputs": [
        {
          "output_type": "stream",
          "name": "stdout",
          "text": [
            "RowNumber\n"
          ]
        },
        {
          "output_type": "display_data",
          "data": {
            "image/png": "[encoded data removed]",
            "text/plain": [
              "<Figure size 432x288 with 1 Axes>"
            ]
          },
          "metadata": {
            "needs_background": "light"
          }
        },
        {
          "output_type": "stream",
          "name": "stdout",
          "text": [
            "CustomerId\n"
          ]
        },
        {
          "output_type": "display_data",
          "data": {
            "image/png": "[encoded data removed]",
            "text/plain": [
              "<Figure size 432x288 with 1 Axes>"
            ]
          },
          "metadata": {
            "needs_background": "light"
          }
        },
        {
          "output_type": "stream",
          "name": "stdout",
          "text": [
            "CreditScore\n"
          ]
        },
        {
          "output_type": "display_data",
          "data": {
            "image/png": "[encoded data removed]",
            "text/plain": [
              "<Figure size 432x288 with 1 Axes>"
            ]
          },
          "metadata": {
            "needs_background": "light"
          }
        },
        {
          "output_type": "stream",
          "name": "stdout",
          "text": [
            "Age\n"
          ]
        },
        {
          "output_type": "display_data",
          "data": {
            "image/png": "[encoded data removed]",
            "text/plain": [
              "<Figure size 432x288 with 1 Axes>"
            ]
          },
          "metadata": {
            "needs_background": "light"
          }
        },
        {
          "output_type": "stream",
          "name": "stdout",
          "text": [
            "Tenure\n"
          ]
        },
        {
          "output_type": "display_data",
          "data": {
            "image/png": "[encoded data removed]",
            "text/plain": [
              "<Figure size 432x288 with 1 Axes>"
            ]
          },
          "metadata": {
            "needs_background": "light"
          }
        },
        {
          "output_type": "stream",
          "name": "stdout",
          "text": [
            "Balance\n"
          ]
        },
        {
          "output_type": "display_data",
          "data": {
            "image/png": "[encoded data removed]",
            "text/plain": [
              "<Figure size 432x288 with 1 Axes>"
            ]
          },
          "metadata": {
            "needs_background": "light"
          }
        },
        {
          "output_type": "stream",
          "name": "stdout",
          "text": [
            "NumOfProducts\n"
          ]
        },
        {
          "output_type": "display_data",
          "data": {
            "image/png": "[encoded data removed]",
            "text/plain": [
              "<Figure size 432x288 with 1 Axes>"
            ]
          },
          "metadata": {
            "needs_background": "light"
          }
        },
        {
          "output_type": "stream",
          "name": "stdout",
          "text": [
            "HasCrCard\n"
          ]
        },
        {
          "output_type": "display_data",
          "data": {
            "image/png": "[encoded data removed]",
            "text/plain": [
              "<Figure size 432x288 with 1 Axes>"
            ]
          },
          "metadata": {
            "needs_background": "light"
          }
        },
        {
          "output_type": "stream",
          "name": "stdout",
          "text": [
            "IsActiveMember\n"
          ]
        },
        {
          "output_type": "display_data",
          "data": {
            "image/png": "[encoded data removed]",
            "text/plain": [
              "<Figure size 432x288 with 1 Axes>"
            ]
          },
          "metadata": {
            "needs_background": "light"
          }
        },
        {
          "output_type": "stream",
          "name": "stdout",
          "text": [
            "EstimatedSalary\n"
          ]
        },
        {
          "output_type": "display_data",
          "data": {
            "image/png": "[encoded data removed]",
            "text/plain": [
              "<Figure size 432x288 with 1 Axes>"
            ]
          },
          "metadata": {
            "needs_background": "light"
          }
        },
        {
          "output_type": "stream",
          "name": "stdout",
          "text": [
            "Exited\n"
          ]
        },
        {
          "output_type": "display_data",
          "data": {
            "image/png": "[encoded data removed]",
            "text/plain": [
              "<Figure size 432x288 with 1 Axes>"
            ]
          },
          "metadata": {
            "needs_background": "light"
          }
        }
      ]
    },
    {
      "cell_type": "markdown",
      "metadata": {
        "id": "yoEsbG0cjDNh"
      },
      "source": [
        "###Distribution Divided into Bins"
      ]
    },
    {
      "cell_type": "code",
      "metadata": {
        "colab": {
          "base_uri": "https://localhost:8080/",
          "height": 740
        },
        "id": "hvvhZktM7ZOO",
        "outputId": "150aa088-7a0f-48bf-9ba6-ab22a03b9ba8"
      },
      "source": [
        "# Divide into bins\n",
        "data['CrScore_bin'] = pd.cut(data['CreditScore'], [0, 400, 500, 600, 700, 800, 900])\n",
        "\n",
        "# lihat jumlah dan rata2 per bagian\n",
        "data[['Exited','CrScore_bin']].groupby('CrScore_bin').agg(['mean','count'])\n",
        "\n",
        "# tampilkan grafik komposisi yang keluar/stay\n",
        "fig = plt.figure(figsize=(10,5))\n",
        "sns.countplot('CrScore_bin', hue = 'Exited', data = data)\n",
        "plt.show()\n",
        "\n",
        "# \n",
        "df_exited_agebin = data[['Exited','CrScore_bin']].groupby('CrScore_bin').agg(['mean'])['Exited','mean']\n",
        "fig = plt.figure(figsize=(10,5))\n",
        "sns.barplot(df_exited_agebin.index,df_exited_agebin.values)\n",
        "plt.axhline(y=data['Exited'].mean(), color='#ff3300', linestyle='--', linewidth=1, label='Rata-rata churn')\n",
        "plt.legend()\n",
        "plt.show()\n"
      ],
      "execution_count": null,
      "outputs": [
        {
          "output_type": "stream",
          "name": "stderr",
          "text": [
            "/usr/local/lib/python3.7/dist-packages/seaborn/_decorators.py:43: FutureWarning: Pass the following variable as a keyword arg: x. From version 0.12, the only valid positional argument will be `data`, and passing other arguments without an explicit keyword will result in an error or misinterpretation.\n",
            "  FutureWarning\n"
          ]
        },
        {
          "output_type": "display_data",
          "data": {
            "image/png": "[encoded data removed]",
            "text/plain": [
              "<Figure size 720x360 with 1 Axes>"
            ]
          },
          "metadata": {
            "needs_background": "light"
          }
        },
        {
          "output_type": "stream",
          "name": "stderr",
          "text": [
            "/usr/local/lib/python3.7/dist-packages/seaborn/_decorators.py:43: FutureWarning: Pass the following variables as keyword args: x, y. From version 0.12, the only valid positional argument will be `data`, and passing other arguments without an explicit keyword will result in an error or misinterpretation.\n",
            "  FutureWarning\n"
          ]
        },
        {
          "output_type": "display_data",
          "data": {
            "image/png": "[encoded data removed]",
            "text/plain": [
              "<Figure size 720x360 with 1 Axes>"
            ]
          },
          "metadata": {
            "needs_background": "light"
          }
        }
      ]
    },
    {
      "cell_type": "code",
      "metadata": {
        "colab": {
          "base_uri": "https://localhost:8080/",
          "height": 740
        },
        "id": "QSvpc4JdTpG2",
        "outputId": "72c6ad8e-aeca-488a-cb12-f248fb8a25d6"
      },
      "source": [
        "# Divide Age into bins by decade\n",
        "data['Age_bin'] = pd.cut(data['Age'], [0, 20, 30, 40, 50, 60, 70, 80, 90, 100])\n",
        "data.head()\n",
        "\n",
        "data[['Exited','Age_bin']].groupby('Age_bin').agg(['mean','count'])\n",
        "\n",
        "fig = plt.figure(figsize=(10,5))\n",
        "sns.countplot('Age_bin', hue = 'Exited', data = data)\n",
        "plt.show()\n",
        "\n",
        "df_exited_agebin = data[['Exited','Age_bin']].groupby('Age_bin').agg(['mean'])['Exited','mean']\n",
        "fig = plt.figure(figsize=(10,5))\n",
        "sns.barplot(df_exited_agebin.index,df_exited_agebin.values)\n",
        "plt.axhline(y=data['Exited'].mean(), color='#ff3300', linestyle='--', linewidth=1, label='Rata-rata churn')\n",
        "plt.legend()\n",
        "plt.show()\n"
      ],
      "execution_count": null,
      "outputs": [
        {
          "output_type": "stream",
          "name": "stderr",
          "text": [
            "/usr/local/lib/python3.7/dist-packages/seaborn/_decorators.py:43: FutureWarning: Pass the following variable as a keyword arg: x. From version 0.12, the only valid positional argument will be `data`, and passing other arguments without an explicit keyword will result in an error or misinterpretation.\n",
            "  FutureWarning\n"
          ]
        },
        {
          "output_type": "display_data",
          "data": {
            "image/png": "[encoded data removed]",
            "text/plain": [
              "<Figure size 720x360 with 1 Axes>"
            ]
          },
          "metadata": {
            "needs_background": "light"
          }
        },
        {
          "output_type": "stream",
          "name": "stderr",
          "text": [
            "/usr/local/lib/python3.7/dist-packages/seaborn/_decorators.py:43: FutureWarning: Pass the following variables as keyword args: x, y. From version 0.12, the only valid positional argument will be `data`, and passing other arguments without an explicit keyword will result in an error or misinterpretation.\n",
            "  FutureWarning\n"
          ]
        },
        {
          "output_type": "display_data",
          "data": {
            "image/png": "[encoded data removed]",
            "text/plain": [
              "<Figure size 720x360 with 1 Axes>"
            ]
          },
          "metadata": {
            "needs_background": "light"
          }
        }
      ]
    },
    {
      "cell_type": "code",
      "metadata": {
        "colab": {
          "base_uri": "https://localhost:8080/",
          "height": 738
        },
        "id": "xjHDjw5O881n",
        "outputId": "30894efe-4519-470f-ff2c-a2d379d1dd65"
      },
      "source": [
        "# lihat jumlah dan rata2 per bagian\n",
        "data[['Exited','Tenure']].groupby('Tenure').agg(['mean','count'])\n",
        "\n",
        "# tampilkan grafik komposisi yang keluar/stay\n",
        "fig = plt.figure(figsize=(10,5))\n",
        "sns.countplot('Tenure', hue = 'Exited', data = data)\n",
        "plt.show()\n",
        "\n",
        "# \n",
        "df_exited_agebin = data[['Exited','Tenure']].groupby('Tenure').agg(['mean'])['Exited','mean']\n",
        "fig = plt.figure(figsize=(10,5))\n",
        "sns.barplot(df_exited_agebin.index,df_exited_agebin.values)\n",
        "plt.axhline(y=data['Exited'].mean(), color='#ff3300', linestyle='--', linewidth=1, label='Rata-rata churn')\n",
        "plt.legend()\n",
        "plt.show()"
      ],
      "execution_count": null,
      "outputs": [
        {
          "output_type": "stream",
          "name": "stderr",
          "text": [
            "/usr/local/lib/python3.7/dist-packages/seaborn/_decorators.py:43: FutureWarning: Pass the following variable as a keyword arg: x. From version 0.12, the only valid positional argument will be `data`, and passing other arguments without an explicit keyword will result in an error or misinterpretation.\n",
            "  FutureWarning\n"
          ]
        },
        {
          "output_type": "display_data",
          "data": {
            "image/png": "[encoded data removed]",
            "text/plain": [
              "<Figure size 720x360 with 1 Axes>"
            ]
          },
          "metadata": {
            "needs_background": "light"
          }
        },
        {
          "output_type": "stream",
          "name": "stderr",
          "text": [
            "/usr/local/lib/python3.7/dist-packages/seaborn/_decorators.py:43: FutureWarning: Pass the following variables as keyword args: x, y. From version 0.12, the only valid positional argument will be `data`, and passing other arguments without an explicit keyword will result in an error or misinterpretation.\n",
            "  FutureWarning\n"
          ]
        },
        {
          "output_type": "display_data",
          "data": {
            "image/png": "[encoded data removed]",
            "text/plain": [
              "<Figure size 720x360 with 1 Axes>"
            ]
          },
          "metadata": {
            "needs_background": "light"
          }
        }
      ]
    },
    {
      "cell_type": "code",
      "metadata": {
        "colab": {
          "base_uri": "https://localhost:8080/",
          "height": 740
        },
        "id": "rv39HBUE9lC4",
        "outputId": "472a1b19-c861-495c-94da-741b954f1c48"
      },
      "source": [
        "# Divide into bins\n",
        "data['Balance_bin'] = pd.cut(data['Balance'], [-1, 30000, 60000, 90000, 120000, 150000])\n",
        "data.head()\n",
        "\n",
        "# lihat jumlah dan rata2 per bagian\n",
        "data[['Exited','Balance_bin']].groupby('Balance_bin').agg(['mean','count'])\n",
        "\n",
        "# tampilkan grafik komposisi yang keluar/stay\n",
        "fig = plt.figure(figsize=(10,5))\n",
        "sns.countplot('Balance_bin', hue = 'Exited', data = data)\n",
        "plt.show()\n",
        "\n",
        "# \n",
        "df_exited_agebin = data[['Exited','Balance_bin']].groupby('Balance_bin').agg(['mean'])['Exited','mean']\n",
        "fig = plt.figure(figsize=(10,5))\n",
        "sns.barplot(df_exited_agebin.index,df_exited_agebin.values)\n",
        "plt.axhline(y=data['Exited'].mean(), color='#ff3300', linestyle='--', linewidth=1, label='Rata-rata churn')\n",
        "plt.legend()\n",
        "plt.show()"
      ],
      "execution_count": null,
      "outputs": [
        {
          "output_type": "stream",
          "name": "stderr",
          "text": [
            "/usr/local/lib/python3.7/dist-packages/seaborn/_decorators.py:43: FutureWarning: Pass the following variable as a keyword arg: x. From version 0.12, the only valid positional argument will be `data`, and passing other arguments without an explicit keyword will result in an error or misinterpretation.\n",
            "  FutureWarning\n"
          ]
        },
        {
          "output_type": "display_data",
          "data": {
            "image/png": "[encoded data removed]",
            "text/plain": [
              "<Figure size 720x360 with 1 Axes>"
            ]
          },
          "metadata": {
            "needs_background": "light"
          }
        },
        {
          "output_type": "stream",
          "name": "stderr",
          "text": [
            "/usr/local/lib/python3.7/dist-packages/seaborn/_decorators.py:43: FutureWarning: Pass the following variables as keyword args: x, y. From version 0.12, the only valid positional argument will be `data`, and passing other arguments without an explicit keyword will result in an error or misinterpretation.\n",
            "  FutureWarning\n"
          ]
        },
        {
          "output_type": "display_data",
          "data": {
            "image/png": "[encoded data removed]",
            "text/plain": [
              "<Figure size 720x360 with 1 Axes>"
            ]
          },
          "metadata": {
            "needs_background": "light"
          }
        }
      ]
    },
    {
      "cell_type": "code",
      "metadata": {
        "colab": {
          "base_uri": "https://localhost:8080/"
        },
        "id": "3vtQocR2QcnB",
        "outputId": "91b03271-1926-455e-8703-d1b9b01611a9"
      },
      "source": [
        "data['Balance'][data['Balance']==0].count()"
      ],
      "execution_count": null,
      "outputs": [
        {
          "output_type": "execute_result",
          "data": {
            "text/plain": [
              "3617"
            ]
          },
          "metadata": {},
          "execution_count": 9
        }
      ]
    },
    {
      "cell_type": "code",
      "metadata": {
        "colab": {
          "base_uri": "https://localhost:8080/",
          "height": 738
        },
        "id": "f0z6iA5s-Iz0",
        "outputId": "3b535eb1-e2ac-435f-985e-799e7ee5c858"
      },
      "source": [
        "# lihat jumlah dan rata2 per bagian\n",
        "data[['Exited','NumOfProducts']].groupby('NumOfProducts').agg(['mean','count'])\n",
        "\n",
        "# tampilkan grafik komposisi yang keluar/stay\n",
        "fig = plt.figure(figsize=(10,5))\n",
        "sns.countplot('NumOfProducts', hue = 'Exited', data = data)\n",
        "plt.show()\n",
        "\n",
        "# grafik  rata2 churn\n",
        "df_exited_agebin = data[['Exited','NumOfProducts']].groupby('NumOfProducts').agg(['mean'])['Exited','mean']\n",
        "fig = plt.figure(figsize=(10,5))\n",
        "sns.barplot(df_exited_agebin.index,df_exited_agebin.values)\n",
        "plt.axhline(y=data['Exited'].mean(), color='#ff3300', linestyle='--', linewidth=1, label='Rata-rata churn')\n",
        "plt.legend()\n",
        "plt.show()"
      ],
      "execution_count": null,
      "outputs": [
        {
          "output_type": "stream",
          "name": "stderr",
          "text": [
            "/usr/local/lib/python3.7/dist-packages/seaborn/_decorators.py:43: FutureWarning: Pass the following variable as a keyword arg: x. From version 0.12, the only valid positional argument will be `data`, and passing other arguments without an explicit keyword will result in an error or misinterpretation.\n",
            "  FutureWarning\n"
          ]
        },
        {
          "output_type": "display_data",
          "data": {
            "image/png": "[encoded data removed]",
            "text/plain": [
              "<Figure size 720x360 with 1 Axes>"
            ]
          },
          "metadata": {
            "needs_background": "light"
          }
        },
        {
          "output_type": "stream",
          "name": "stderr",
          "text": [
            "/usr/local/lib/python3.7/dist-packages/seaborn/_decorators.py:43: FutureWarning: Pass the following variables as keyword args: x, y. From version 0.12, the only valid positional argument will be `data`, and passing other arguments without an explicit keyword will result in an error or misinterpretation.\n",
            "  FutureWarning\n"
          ]
        },
        {
          "output_type": "display_data",
          "data": {
            "image/png": "[encoded data removed]",
            "text/plain": [
              "<Figure size 720x360 with 1 Axes>"
            ]
          },
          "metadata": {
            "needs_background": "light"
          }
        }
      ]
    },
    {
      "cell_type": "code",
      "metadata": {
        "colab": {
          "base_uri": "https://localhost:8080/",
          "height": 738
        },
        "id": "bMBbjZYM-mQP",
        "outputId": "5ebbd378-87a0-42f3-ce5f-9f46ea582efb"
      },
      "source": [
        "# lihat jumlah dan rata2 per bagian\n",
        "data[['Exited','HasCrCard']].groupby('HasCrCard').agg(['mean','count'])\n",
        "\n",
        "# tampilkan grafik komposisi yang keluar/stay\n",
        "fig = plt.figure(figsize=(10,5))\n",
        "sns.countplot('HasCrCard', hue = 'Exited', data = data)\n",
        "plt.show()\n",
        "\n",
        "# \n",
        "df_exited_agebin = data[['Exited','HasCrCard']].groupby('HasCrCard').agg(['mean'])['Exited','mean']\n",
        "fig = plt.figure(figsize=(10,5))\n",
        "sns.barplot(df_exited_agebin.index,df_exited_agebin.values)\n",
        "plt.axhline(y=data['Exited'].mean(), color='#ff3300', linestyle='--', linewidth=1, label='Rata-rata churn')\n",
        "plt.legend()\n",
        "plt.show()"
      ],
      "execution_count": null,
      "outputs": [
        {
          "output_type": "stream",
          "name": "stderr",
          "text": [
            "/usr/local/lib/python3.7/dist-packages/seaborn/_decorators.py:43: FutureWarning: Pass the following variable as a keyword arg: x. From version 0.12, the only valid positional argument will be `data`, and passing other arguments without an explicit keyword will result in an error or misinterpretation.\n",
            "  FutureWarning\n"
          ]
        },
        {
          "output_type": "display_data",
          "data": {
            "image/png": "[encoded data removed]",
            "text/plain": [
              "<Figure size 720x360 with 1 Axes>"
            ]
          },
          "metadata": {
            "needs_background": "light"
          }
        },
        {
          "output_type": "stream",
          "name": "stderr",
          "text": [
            "/usr/local/lib/python3.7/dist-packages/seaborn/_decorators.py:43: FutureWarning: Pass the following variables as keyword args: x, y. From version 0.12, the only valid positional argument will be `data`, and passing other arguments without an explicit keyword will result in an error or misinterpretation.\n",
            "  FutureWarning\n"
          ]
        },
        {
          "output_type": "display_data",
          "data": {
            "image/png": "[encoded data removed]",
            "text/plain": [
              "<Figure size 720x360 with 1 Axes>"
            ]
          },
          "metadata": {
            "needs_background": "light"
          }
        }
      ]
    },
    {
      "cell_type": "code",
      "metadata": {
        "colab": {
          "base_uri": "https://localhost:8080/",
          "height": 738
        },
        "id": "MMFXbufz_TAT",
        "outputId": "80cca6d8-4225-46ee-b197-28532058adb0"
      },
      "source": [
        "# lihat jumlah dan rata2 per bagian\n",
        "data[['Exited','IsActiveMember']].groupby('IsActiveMember').agg(['mean','count'])\n",
        "\n",
        "# tampilkan grafik komposisi yang keluar/stay\n",
        "fig = plt.figure(figsize=(10,5))\n",
        "sns.countplot('IsActiveMember', hue = 'Exited', data = data)\n",
        "plt.show()\n",
        "\n",
        "# \n",
        "df_exited_agebin = data[['Exited','IsActiveMember']].groupby('IsActiveMember').agg(['mean'])['Exited','mean']\n",
        "fig = plt.figure(figsize=(10,5))\n",
        "sns.barplot(df_exited_agebin.index,df_exited_agebin.values)\n",
        "plt.axhline(y=data['Exited'].mean(), color='#ff3300', linestyle='--', linewidth=1, label='Rata-rata churn')\n",
        "plt.legend()\n",
        "plt.show()"
      ],
      "execution_count": null,
      "outputs": [
        {
          "output_type": "stream",
          "name": "stderr",
          "text": [
            "/usr/local/lib/python3.7/dist-packages/seaborn/_decorators.py:43: FutureWarning: Pass the following variable as a keyword arg: x. From version 0.12, the only valid positional argument will be `data`, and passing other arguments without an explicit keyword will result in an error or misinterpretation.\n",
            "  FutureWarning\n"
          ]
        },
        {
          "output_type": "display_data",
          "data": {
            "image/png": "[encoded data removed]",
            "text/plain": [
              "<Figure size 720x360 with 1 Axes>"
            ]
          },
          "metadata": {
            "needs_background": "light"
          }
        },
        {
          "output_type": "stream",
          "name": "stderr",
          "text": [
            "/usr/local/lib/python3.7/dist-packages/seaborn/_decorators.py:43: FutureWarning: Pass the following variables as keyword args: x, y. From version 0.12, the only valid positional argument will be `data`, and passing other arguments without an explicit keyword will result in an error or misinterpretation.\n",
            "  FutureWarning\n"
          ]
        },
        {
          "output_type": "display_data",
          "data": {
            "image/png": "[encoded data removed]",
            "text/plain": [
              "<Figure size 720x360 with 1 Axes>"
            ]
          },
          "metadata": {
            "needs_background": "light"
          }
        }
      ]
    },
    {
      "cell_type": "code",
      "metadata": {
        "colab": {
          "base_uri": "https://localhost:8080/",
          "height": 740
        },
        "id": "VDaBBIqv_dlm",
        "outputId": "fbf4a7bc-904f-4952-d719-8763bae26449"
      },
      "source": [
        "# Divide into bins\n",
        "# data['EsSalary_bin'] = pd.cut(data['EstimatedSalary'], [0, 25000, 50000, 75000, 100000, 125000, 150000, 175000, 200000])\n",
        "data['EsSalary_bin'] = pd.cut(data['EstimatedSalary'], [0, 40000, 80000, 120000, 160000, 200000])\n",
        "\n",
        "data.head()\n",
        "\n",
        "# lihat jumlah dan rata2 per bagian\n",
        "data[['Exited','EsSalary_bin']].groupby('EsSalary_bin').agg(['mean','count'])\n",
        "\n",
        "# tampilkan grafik komposisi yang keluar/stay\n",
        "fig = plt.figure(figsize=(10,5))\n",
        "sns.countplot('EsSalary_bin', hue = 'Exited', data = data)\n",
        "plt.show()\n",
        "\n",
        "# \n",
        "df_exited_agebin = data[['Exited','EsSalary_bin']].groupby('EsSalary_bin').agg(['mean'])['Exited','mean']\n",
        "fig = plt.figure(figsize=(10,5))\n",
        "sns.barplot(df_exited_agebin.index,df_exited_agebin.values)\n",
        "plt.axhline(y=data['Exited'].mean(), color='#ff3300', linestyle='--', linewidth=1, label='Rata-rata churn')\n",
        "plt.legend()\n",
        "plt.show()"
      ],
      "execution_count": null,
      "outputs": [
        {
          "output_type": "stream",
          "name": "stderr",
          "text": [
            "/usr/local/lib/python3.7/dist-packages/seaborn/_decorators.py:43: FutureWarning: Pass the following variable as a keyword arg: x. From version 0.12, the only valid positional argument will be `data`, and passing other arguments without an explicit keyword will result in an error or misinterpretation.\n",
            "  FutureWarning\n"
          ]
        },
        {
          "output_type": "display_data",
          "data": {
            "image/png": "[encoded data removed]",
            "text/plain": [
              "<Figure size 720x360 with 1 Axes>"
            ]
          },
          "metadata": {
            "needs_background": "light"
          }
        },
        {
          "output_type": "stream",
          "name": "stderr",
          "text": [
            "/usr/local/lib/python3.7/dist-packages/seaborn/_decorators.py:43: FutureWarning: Pass the following variables as keyword args: x, y. From version 0.12, the only valid positional argument will be `data`, and passing other arguments without an explicit keyword will result in an error or misinterpretation.\n",
            "  FutureWarning\n"
          ]
        },
        {
          "output_type": "display_data",
          "data": {
            "image/png": "[encoded data removed]",
            "text/plain": [
              "<Figure size 720x360 with 1 Axes>"
            ]
          },
          "metadata": {
            "needs_background": "light"
          }
        }
      ]
    },
    {
      "cell_type": "code",
      "metadata": {
        "colab": {
          "base_uri": "https://localhost:8080/",
          "height": 739
        },
        "id": "1SiIWIXIBWSG",
        "outputId": "3851477b-32af-43ca-ec53-dc8ba4961647"
      },
      "source": [
        "# lihat jumlah dan rata2 per bagian\n",
        "data[['Exited','Gender']].groupby('Gender').agg(['mean','count'])\n",
        "\n",
        "# tampilkan grafik komposisi yang keluar/stay\n",
        "fig = plt.figure(figsize=(10,5))\n",
        "sns.countplot('Gender', hue = 'Exited', data = data)\n",
        "plt.show()\n",
        "\n",
        "# \n",
        "df_exited_agebin = data[['Exited','Gender']].groupby('Gender').agg(['mean'])['Exited','mean']\n",
        "fig = plt.figure(figsize=(10,5))\n",
        "sns.barplot(df_exited_agebin.index,df_exited_agebin.values)\n",
        "plt.axhline(y=data['Exited'].mean(), color='#ff3300', linestyle='--', linewidth=1, label='Rata-rata churn')\n",
        "plt.legend()\n",
        "plt.show()"
      ],
      "execution_count": null,
      "outputs": [
        {
          "output_type": "stream",
          "name": "stderr",
          "text": [
            "/usr/local/lib/python3.7/dist-packages/seaborn/_decorators.py:43: FutureWarning: Pass the following variable as a keyword arg: x. From version 0.12, the only valid positional argument will be `data`, and passing other arguments without an explicit keyword will result in an error or misinterpretation.\n",
            "  FutureWarning\n"
          ]
        },
        {
          "output_type": "display_data",
          "data": {
            "image/png": "[encoded data removed]",
            "text/plain": [
              "<Figure size 720x360 with 1 Axes>"
            ]
          },
          "metadata": {
            "needs_background": "light"
          }
        },
        {
          "output_type": "stream",
          "name": "stderr",
          "text": [
            "/usr/local/lib/python3.7/dist-packages/seaborn/_decorators.py:43: FutureWarning: Pass the following variables as keyword args: x, y. From version 0.12, the only valid positional argument will be `data`, and passing other arguments without an explicit keyword will result in an error or misinterpretation.\n",
            "  FutureWarning\n"
          ]
        },
        {
          "output_type": "display_data",
          "data": {
            "image/png": "[encoded data removed]",
            "text/plain": [
              "<Figure size 720x360 with 1 Axes>"
            ]
          },
          "metadata": {
            "needs_background": "light"
          }
        }
      ]
    },
    {
      "cell_type": "code",
      "metadata": {
        "colab": {
          "base_uri": "https://localhost:8080/",
          "height": 739
        },
        "id": "_h9Z3TarBcM0",
        "outputId": "63c7b084-5fa2-47e5-dfd3-4c6a980842d1"
      },
      "source": [
        "# lihat jumlah dan rata2 per bagian\n",
        "data[['Exited','Geography']].groupby('Geography').agg(['mean','count'])\n",
        "\n",
        "# tampilkan grafik komposisi yang keluar/stay\n",
        "fig = plt.figure(figsize=(10,5))\n",
        "sns.countplot('Geography', hue = 'Exited', data = data)\n",
        "plt.show()\n",
        "\n",
        "# \n",
        "df_exited_agebin = data[['Exited','Geography']].groupby('Geography').agg(['mean'])['Exited','mean']\n",
        "fig = plt.figure(figsize=(10,5))\n",
        "sns.barplot(df_exited_agebin.index,df_exited_agebin.values)\n",
        "plt.axhline(y=data['Exited'].mean(), color='#ff3300', linestyle='--', linewidth=1, label='Rata-rata churn')\n",
        "plt.legend()\n",
        "plt.show()"
      ],
      "execution_count": null,
      "outputs": [
        {
          "output_type": "stream",
          "name": "stderr",
          "text": [
            "/usr/local/lib/python3.7/dist-packages/seaborn/_decorators.py:43: FutureWarning: Pass the following variable as a keyword arg: x. From version 0.12, the only valid positional argument will be `data`, and passing other arguments without an explicit keyword will result in an error or misinterpretation.\n",
            "  FutureWarning\n"
          ]
        },
        {
          "output_type": "display_data",
          "data": {
            "image/png": "[encoded data removed]",
            "text/plain": [
              "<Figure size 720x360 with 1 Axes>"
            ]
          },
          "metadata": {
            "needs_background": "light"
          }
        },
        {
          "output_type": "stream",
          "name": "stderr",
          "text": [
            "/usr/local/lib/python3.7/dist-packages/seaborn/_decorators.py:43: FutureWarning: Pass the following variables as keyword args: x, y. From version 0.12, the only valid positional argument will be `data`, and passing other arguments without an explicit keyword will result in an error or misinterpretation.\n",
            "  FutureWarning\n"
          ]
        },
        {
          "output_type": "display_data",
          "data": {
            "image/png": "[encoded data removed]",
            "text/plain": [
              "<Figure size 720x360 with 1 Axes>"
            ]
          },
          "metadata": {
            "needs_background": "light"
          }
        }
      ]
    },
    {
      "cell_type": "markdown",
      "metadata": {
        "id": "TqQGUONWNN0f"
      },
      "source": [
        "#Data Preprocessing"
      ]
    },
    {
      "cell_type": "markdown",
      "metadata": {
        "id": "25LFok5yJZo4"
      },
      "source": [
        "##Label Encoder"
      ]
    },
    {
      "cell_type": "code",
      "metadata": {
        "colab": {
          "base_uri": "https://localhost:8080/",
          "height": 443
        },
        "id": "bzsmnoS8Khp-",
        "outputId": "5de39b18-10e5-4a6f-b4c6-c1af1508cf2f"
      },
      "source": [
        "data"
      ],
      "execution_count": null,
      "outputs": [
        {
          "output_type": "execute_result",
          "data": {
            "text/html": [
              "<div>\n",
              "<style scoped>\n",
              "    .dataframe tbody tr th:only-of-type {\n",
              "        vertical-align: middle;\n",
              "    }\n",
              "\n",
              "    .dataframe tbody tr th {\n",
              "        vertical-align: top;\n",
              "    }\n",
              "\n",
              "    .dataframe thead th {\n",
              "        text-align: right;\n",
              "    }\n",
              "</style>\n",
              "<table border=\"1\" class=\"dataframe\">\n",
              "  <thead>\n",
              "    <tr style=\"text-align: right;\">\n",
              "      <th></th>\n",
              "      <th>RowNumber</th>\n",
              "      <th>CustomerId</th>\n",
              "      <th>Surname</th>\n",
              "      <th>CreditScore</th>\n",
              "      <th>Geography</th>\n",
              "      <th>Gender</th>\n",
              "      <th>Age</th>\n",
              "      <th>Tenure</th>\n",
              "      <th>Balance</th>\n",
              "      <th>NumOfProducts</th>\n",
              "      <th>HasCrCard</th>\n",
              "      <th>IsActiveMember</th>\n",
              "      <th>EstimatedSalary</th>\n",
              "      <th>Exited</th>\n",
              "    </tr>\n",
              "  </thead>\n",
              "  <tbody>\n",
              "    <tr>\n",
              "      <th>0</th>\n",
              "      <td>1</td>\n",
              "      <td>15634602</td>\n",
              "      <td>Hargrave</td>\n",
              "      <td>619</td>\n",
              "      <td>France</td>\n",
              "      <td>Female</td>\n",
              "      <td>42</td>\n",
              "      <td>2</td>\n",
              "      <td>0.00</td>\n",
              "      <td>1</td>\n",
              "      <td>1</td>\n",
              "      <td>1</td>\n",
              "      <td>101348.88</td>\n",
              "      <td>1</td>\n",
              "    </tr>\n",
              "    <tr>\n",
              "      <th>1</th>\n",
              "      <td>2</td>\n",
              "      <td>15647311</td>\n",
              "      <td>Hill</td>\n",
              "      <td>608</td>\n",
              "      <td>Spain</td>\n",
              "      <td>Female</td>\n",
              "      <td>41</td>\n",
              "      <td>1</td>\n",
              "      <td>83807.86</td>\n",
              "      <td>1</td>\n",
              "      <td>0</td>\n",
              "      <td>1</td>\n",
              "      <td>112542.58</td>\n",
              "      <td>0</td>\n",
              "    </tr>\n",
              "    <tr>\n",
              "      <th>2</th>\n",
              "      <td>3</td>\n",
              "      <td>15619304</td>\n",
              "      <td>Onio</td>\n",
              "      <td>502</td>\n",
              "      <td>France</td>\n",
              "      <td>Female</td>\n",
              "      <td>42</td>\n",
              "      <td>8</td>\n",
              "      <td>159660.80</td>\n",
              "      <td>3</td>\n",
              "      <td>1</td>\n",
              "      <td>0</td>\n",
              "      <td>113931.57</td>\n",
              "      <td>1</td>\n",
              "    </tr>\n",
              "    <tr>\n",
              "      <th>3</th>\n",
              "      <td>4</td>\n",
              "      <td>15701354</td>\n",
              "      <td>Boni</td>\n",
              "      <td>699</td>\n",
              "      <td>France</td>\n",
              "      <td>Female</td>\n",
              "      <td>39</td>\n",
              "      <td>1</td>\n",
              "      <td>0.00</td>\n",
              "      <td>2</td>\n",
              "      <td>0</td>\n",
              "      <td>0</td>\n",
              "      <td>93826.63</td>\n",
              "      <td>0</td>\n",
              "    </tr>\n",
              "    <tr>\n",
              "      <th>4</th>\n",
              "      <td>5</td>\n",
              "      <td>15737888</td>\n",
              "      <td>Mitchell</td>\n",
              "      <td>850</td>\n",
              "      <td>Spain</td>\n",
              "      <td>Female</td>\n",
              "      <td>43</td>\n",
              "      <td>2</td>\n",
              "      <td>125510.82</td>\n",
              "      <td>1</td>\n",
              "      <td>1</td>\n",
              "      <td>1</td>\n",
              "      <td>79084.10</td>\n",
              "      <td>0</td>\n",
              "    </tr>\n",
              "    <tr>\n",
              "      <th>...</th>\n",
              "      <td>...</td>\n",
              "      <td>...</td>\n",
              "      <td>...</td>\n",
              "      <td>...</td>\n",
              "      <td>...</td>\n",
              "      <td>...</td>\n",
              "      <td>...</td>\n",
              "      <td>...</td>\n",
              "      <td>...</td>\n",
              "      <td>...</td>\n",
              "      <td>...</td>\n",
              "      <td>...</td>\n",
              "      <td>...</td>\n",
              "      <td>...</td>\n",
              "    </tr>\n",
              "    <tr>\n",
              "      <th>9995</th>\n",
              "      <td>9996</td>\n",
              "      <td>15606229</td>\n",
              "      <td>Obijiaku</td>\n",
              "      <td>771</td>\n",
              "      <td>France</td>\n",
              "      <td>Male</td>\n",
              "      <td>39</td>\n",
              "      <td>5</td>\n",
              "      <td>0.00</td>\n",
              "      <td>2</td>\n",
              "      <td>1</td>\n",
              "      <td>0</td>\n",
              "      <td>96270.64</td>\n",
              "      <td>0</td>\n",
              "    </tr>\n",
              "    <tr>\n",
              "      <th>9996</th>\n",
              "      <td>9997</td>\n",
              "      <td>15569892</td>\n",
              "      <td>Johnstone</td>\n",
              "      <td>516</td>\n",
              "      <td>France</td>\n",
              "      <td>Male</td>\n",
              "      <td>35</td>\n",
              "      <td>10</td>\n",
              "      <td>57369.61</td>\n",
              "      <td>1</td>\n",
              "      <td>1</td>\n",
              "      <td>1</td>\n",
              "      <td>101699.77</td>\n",
              "      <td>0</td>\n",
              "    </tr>\n",
              "    <tr>\n",
              "      <th>9997</th>\n",
              "      <td>9998</td>\n",
              "      <td>15584532</td>\n",
              "      <td>Liu</td>\n",
              "      <td>709</td>\n",
              "      <td>France</td>\n",
              "      <td>Female</td>\n",
              "      <td>36</td>\n",
              "      <td>7</td>\n",
              "      <td>0.00</td>\n",
              "      <td>1</td>\n",
              "      <td>0</td>\n",
              "      <td>1</td>\n",
              "      <td>42085.58</td>\n",
              "      <td>1</td>\n",
              "    </tr>\n",
              "    <tr>\n",
              "      <th>9998</th>\n",
              "      <td>9999</td>\n",
              "      <td>15682355</td>\n",
              "      <td>Sabbatini</td>\n",
              "      <td>772</td>\n",
              "      <td>Germany</td>\n",
              "      <td>Male</td>\n",
              "      <td>42</td>\n",
              "      <td>3</td>\n",
              "      <td>75075.31</td>\n",
              "      <td>2</td>\n",
              "      <td>1</td>\n",
              "      <td>0</td>\n",
              "      <td>92888.52</td>\n",
              "      <td>1</td>\n",
              "    </tr>\n",
              "    <tr>\n",
              "      <th>9999</th>\n",
              "      <td>10000</td>\n",
              "      <td>15628319</td>\n",
              "      <td>Walker</td>\n",
              "      <td>792</td>\n",
              "      <td>France</td>\n",
              "      <td>Female</td>\n",
              "      <td>28</td>\n",
              "      <td>4</td>\n",
              "      <td>130142.79</td>\n",
              "      <td>1</td>\n",
              "      <td>1</td>\n",
              "      <td>0</td>\n",
              "      <td>38190.78</td>\n",
              "      <td>0</td>\n",
              "    </tr>\n",
              "  </tbody>\n",
              "</table>\n",
              "<p>10000 rows × 14 columns</p>\n",
              "</div>"
            ],
            "text/plain": [
              "      RowNumber  CustomerId    Surname  ...  IsActiveMember EstimatedSalary Exited\n",
              "0             1    15634602   Hargrave  ...               1       101348.88      1\n",
              "1             2    15647311       Hill  ...               1       112542.58      0\n",
              "2             3    15619304       Onio  ...               0       113931.57      1\n",
              "3             4    15701354       Boni  ...               0        93826.63      0\n",
              "4             5    15737888   Mitchell  ...               1        79084.10      0\n",
              "...         ...         ...        ...  ...             ...             ...    ...\n",
              "9995       9996    15606229   Obijiaku  ...               0        96270.64      0\n",
              "9996       9997    15569892  Johnstone  ...               1       101699.77      0\n",
              "9997       9998    15584532        Liu  ...               1        42085.58      1\n",
              "9998       9999    15682355  Sabbatini  ...               0        92888.52      1\n",
              "9999      10000    15628319     Walker  ...               0        38190.78      0\n",
              "\n",
              "[10000 rows x 14 columns]"
            ]
          },
          "metadata": {},
          "execution_count": 69
        }
      ]
    },
    {
      "cell_type": "code",
      "metadata": {
        "colab": {
          "base_uri": "https://localhost:8080/",
          "height": 443
        },
        "id": "pb8zgSQTyUUH",
        "outputId": "43cec0b8-a8a8-457e-bc21-6f2cbe9a1b5f"
      },
      "source": [
        "df = pd.get_dummies(data, columns=['Gender'], drop_first=True)\n",
        "df = pd.get_dummies(df, columns=['Geography'])\n",
        "df"
      ],
      "execution_count": null,
      "outputs": [
        {
          "output_type": "execute_result",
          "data": {
            "text/html": [
              "<div>\n",
              "<style scoped>\n",
              "    .dataframe tbody tr th:only-of-type {\n",
              "        vertical-align: middle;\n",
              "    }\n",
              "\n",
              "    .dataframe tbody tr th {\n",
              "        vertical-align: top;\n",
              "    }\n",
              "\n",
              "    .dataframe thead th {\n",
              "        text-align: right;\n",
              "    }\n",
              "</style>\n",
              "<table border=\"1\" class=\"dataframe\">\n",
              "  <thead>\n",
              "    <tr style=\"text-align: right;\">\n",
              "      <th></th>\n",
              "      <th>RowNumber</th>\n",
              "      <th>CustomerId</th>\n",
              "      <th>Surname</th>\n",
              "      <th>CreditScore</th>\n",
              "      <th>Age</th>\n",
              "      <th>Tenure</th>\n",
              "      <th>Balance</th>\n",
              "      <th>NumOfProducts</th>\n",
              "      <th>HasCrCard</th>\n",
              "      <th>IsActiveMember</th>\n",
              "      <th>EstimatedSalary</th>\n",
              "      <th>Exited</th>\n",
              "      <th>Gender_Male</th>\n",
              "      <th>Geography_France</th>\n",
              "      <th>Geography_Germany</th>\n",
              "      <th>Geography_Spain</th>\n",
              "    </tr>\n",
              "  </thead>\n",
              "  <tbody>\n",
              "    <tr>\n",
              "      <th>0</th>\n",
              "      <td>1</td>\n",
              "      <td>15634602</td>\n",
              "      <td>Hargrave</td>\n",
              "      <td>619</td>\n",
              "      <td>42</td>\n",
              "      <td>2</td>\n",
              "      <td>0.00</td>\n",
              "      <td>1</td>\n",
              "      <td>1</td>\n",
              "      <td>1</td>\n",
              "      <td>101348.88</td>\n",
              "      <td>1</td>\n",
              "      <td>0</td>\n",
              "      <td>1</td>\n",
              "      <td>0</td>\n",
              "      <td>0</td>\n",
              "    </tr>\n",
              "    <tr>\n",
              "      <th>1</th>\n",
              "      <td>2</td>\n",
              "      <td>15647311</td>\n",
              "      <td>Hill</td>\n",
              "      <td>608</td>\n",
              "      <td>41</td>\n",
              "      <td>1</td>\n",
              "      <td>83807.86</td>\n",
              "      <td>1</td>\n",
              "      <td>0</td>\n",
              "      <td>1</td>\n",
              "      <td>112542.58</td>\n",
              "      <td>0</td>\n",
              "      <td>0</td>\n",
              "      <td>0</td>\n",
              "      <td>0</td>\n",
              "      <td>1</td>\n",
              "    </tr>\n",
              "    <tr>\n",
              "      <th>2</th>\n",
              "      <td>3</td>\n",
              "      <td>15619304</td>\n",
              "      <td>Onio</td>\n",
              "      <td>502</td>\n",
              "      <td>42</td>\n",
              "      <td>8</td>\n",
              "      <td>159660.80</td>\n",
              "      <td>3</td>\n",
              "      <td>1</td>\n",
              "      <td>0</td>\n",
              "      <td>113931.57</td>\n",
              "      <td>1</td>\n",
              "      <td>0</td>\n",
              "      <td>1</td>\n",
              "      <td>0</td>\n",
              "      <td>0</td>\n",
              "    </tr>\n",
              "    <tr>\n",
              "      <th>3</th>\n",
              "      <td>4</td>\n",
              "      <td>15701354</td>\n",
              "      <td>Boni</td>\n",
              "      <td>699</td>\n",
              "      <td>39</td>\n",
              "      <td>1</td>\n",
              "      <td>0.00</td>\n",
              "      <td>2</td>\n",
              "      <td>0</td>\n",
              "      <td>0</td>\n",
              "      <td>93826.63</td>\n",
              "      <td>0</td>\n",
              "      <td>0</td>\n",
              "      <td>1</td>\n",
              "      <td>0</td>\n",
              "      <td>0</td>\n",
              "    </tr>\n",
              "    <tr>\n",
              "      <th>4</th>\n",
              "      <td>5</td>\n",
              "      <td>15737888</td>\n",
              "      <td>Mitchell</td>\n",
              "      <td>850</td>\n",
              "      <td>43</td>\n",
              "      <td>2</td>\n",
              "      <td>125510.82</td>\n",
              "      <td>1</td>\n",
              "      <td>1</td>\n",
              "      <td>1</td>\n",
              "      <td>79084.10</td>\n",
              "      <td>0</td>\n",
              "      <td>0</td>\n",
              "      <td>0</td>\n",
              "      <td>0</td>\n",
              "      <td>1</td>\n",
              "    </tr>\n",
              "    <tr>\n",
              "      <th>...</th>\n",
              "      <td>...</td>\n",
              "      <td>...</td>\n",
              "      <td>...</td>\n",
              "      <td>...</td>\n",
              "      <td>...</td>\n",
              "      <td>...</td>\n",
              "      <td>...</td>\n",
              "      <td>...</td>\n",
              "      <td>...</td>\n",
              "      <td>...</td>\n",
              "      <td>...</td>\n",
              "      <td>...</td>\n",
              "      <td>...</td>\n",
              "      <td>...</td>\n",
              "      <td>...</td>\n",
              "      <td>...</td>\n",
              "    </tr>\n",
              "    <tr>\n",
              "      <th>9995</th>\n",
              "      <td>9996</td>\n",
              "      <td>15606229</td>\n",
              "      <td>Obijiaku</td>\n",
              "      <td>771</td>\n",
              "      <td>39</td>\n",
              "      <td>5</td>\n",
              "      <td>0.00</td>\n",
              "      <td>2</td>\n",
              "      <td>1</td>\n",
              "      <td>0</td>\n",
              "      <td>96270.64</td>\n",
              "      <td>0</td>\n",
              "      <td>1</td>\n",
              "      <td>1</td>\n",
              "      <td>0</td>\n",
              "      <td>0</td>\n",
              "    </tr>\n",
              "    <tr>\n",
              "      <th>9996</th>\n",
              "      <td>9997</td>\n",
              "      <td>15569892</td>\n",
              "      <td>Johnstone</td>\n",
              "      <td>516</td>\n",
              "      <td>35</td>\n",
              "      <td>10</td>\n",
              "      <td>57369.61</td>\n",
              "      <td>1</td>\n",
              "      <td>1</td>\n",
              "      <td>1</td>\n",
              "      <td>101699.77</td>\n",
              "      <td>0</td>\n",
              "      <td>1</td>\n",
              "      <td>1</td>\n",
              "      <td>0</td>\n",
              "      <td>0</td>\n",
              "    </tr>\n",
              "    <tr>\n",
              "      <th>9997</th>\n",
              "      <td>9998</td>\n",
              "      <td>15584532</td>\n",
              "      <td>Liu</td>\n",
              "      <td>709</td>\n",
              "      <td>36</td>\n",
              "      <td>7</td>\n",
              "      <td>0.00</td>\n",
              "      <td>1</td>\n",
              "      <td>0</td>\n",
              "      <td>1</td>\n",
              "      <td>42085.58</td>\n",
              "      <td>1</td>\n",
              "      <td>0</td>\n",
              "      <td>1</td>\n",
              "      <td>0</td>\n",
              "      <td>0</td>\n",
              "    </tr>\n",
              "    <tr>\n",
              "      <th>9998</th>\n",
              "      <td>9999</td>\n",
              "      <td>15682355</td>\n",
              "      <td>Sabbatini</td>\n",
              "      <td>772</td>\n",
              "      <td>42</td>\n",
              "      <td>3</td>\n",
              "      <td>75075.31</td>\n",
              "      <td>2</td>\n",
              "      <td>1</td>\n",
              "      <td>0</td>\n",
              "      <td>92888.52</td>\n",
              "      <td>1</td>\n",
              "      <td>1</td>\n",
              "      <td>0</td>\n",
              "      <td>1</td>\n",
              "      <td>0</td>\n",
              "    </tr>\n",
              "    <tr>\n",
              "      <th>9999</th>\n",
              "      <td>10000</td>\n",
              "      <td>15628319</td>\n",
              "      <td>Walker</td>\n",
              "      <td>792</td>\n",
              "      <td>28</td>\n",
              "      <td>4</td>\n",
              "      <td>130142.79</td>\n",
              "      <td>1</td>\n",
              "      <td>1</td>\n",
              "      <td>0</td>\n",
              "      <td>38190.78</td>\n",
              "      <td>0</td>\n",
              "      <td>0</td>\n",
              "      <td>1</td>\n",
              "      <td>0</td>\n",
              "      <td>0</td>\n",
              "    </tr>\n",
              "  </tbody>\n",
              "</table>\n",
              "<p>10000 rows × 16 columns</p>\n",
              "</div>"
            ],
            "text/plain": [
              "      RowNumber  CustomerId  ... Geography_Germany  Geography_Spain\n",
              "0             1    15634602  ...                 0                0\n",
              "1             2    15647311  ...                 0                1\n",
              "2             3    15619304  ...                 0                0\n",
              "3             4    15701354  ...                 0                0\n",
              "4             5    15737888  ...                 0                1\n",
              "...         ...         ...  ...               ...              ...\n",
              "9995       9996    15606229  ...                 0                0\n",
              "9996       9997    15569892  ...                 0                0\n",
              "9997       9998    15584532  ...                 0                0\n",
              "9998       9999    15682355  ...                 1                0\n",
              "9999      10000    15628319  ...                 0                0\n",
              "\n",
              "[10000 rows x 16 columns]"
            ]
          },
          "metadata": {},
          "execution_count": 71
        }
      ]
    },
    {
      "cell_type": "markdown",
      "metadata": {
        "id": "baZbbo79JmrU"
      },
      "source": [
        "##One Hot Encoder"
      ]
    },
    {
      "cell_type": "code",
      "metadata": {
        "id": "0o7yj_XkMyuJ",
        "colab": {
          "base_uri": "https://localhost:8080/",
          "height": 423
        },
        "outputId": "26ec48cb-c301-478a-e4c5-0a23957b76a4"
      },
      "source": [
        "df = pd.get_dummies(df.drop(columns = [\"CustomerId\",\"RowNumber\",\"Surname\", \"Tenure\", \"HasCrCard\", \"EstimatedSalary\"]))\n",
        "df"
      ],
      "execution_count": null,
      "outputs": [
        {
          "output_type": "execute_result",
          "data": {
            "text/html": [
              "<div>\n",
              "<style scoped>\n",
              "    .dataframe tbody tr th:only-of-type {\n",
              "        vertical-align: middle;\n",
              "    }\n",
              "\n",
              "    .dataframe tbody tr th {\n",
              "        vertical-align: top;\n",
              "    }\n",
              "\n",
              "    .dataframe thead th {\n",
              "        text-align: right;\n",
              "    }\n",
              "</style>\n",
              "<table border=\"1\" class=\"dataframe\">\n",
              "  <thead>\n",
              "    <tr style=\"text-align: right;\">\n",
              "      <th></th>\n",
              "      <th>CreditScore</th>\n",
              "      <th>Age</th>\n",
              "      <th>Balance</th>\n",
              "      <th>NumOfProducts</th>\n",
              "      <th>IsActiveMember</th>\n",
              "      <th>Exited</th>\n",
              "      <th>Gender_Male</th>\n",
              "      <th>Geography_France</th>\n",
              "      <th>Geography_Germany</th>\n",
              "      <th>Geography_Spain</th>\n",
              "    </tr>\n",
              "  </thead>\n",
              "  <tbody>\n",
              "    <tr>\n",
              "      <th>0</th>\n",
              "      <td>619</td>\n",
              "      <td>42</td>\n",
              "      <td>0.00</td>\n",
              "      <td>1</td>\n",
              "      <td>1</td>\n",
              "      <td>1</td>\n",
              "      <td>0</td>\n",
              "      <td>1</td>\n",
              "      <td>0</td>\n",
              "      <td>0</td>\n",
              "    </tr>\n",
              "    <tr>\n",
              "      <th>1</th>\n",
              "      <td>608</td>\n",
              "      <td>41</td>\n",
              "      <td>83807.86</td>\n",
              "      <td>1</td>\n",
              "      <td>1</td>\n",
              "      <td>0</td>\n",
              "      <td>0</td>\n",
              "      <td>0</td>\n",
              "      <td>0</td>\n",
              "      <td>1</td>\n",
              "    </tr>\n",
              "    <tr>\n",
              "      <th>2</th>\n",
              "      <td>502</td>\n",
              "      <td>42</td>\n",
              "      <td>159660.80</td>\n",
              "      <td>3</td>\n",
              "      <td>0</td>\n",
              "      <td>1</td>\n",
              "      <td>0</td>\n",
              "      <td>1</td>\n",
              "      <td>0</td>\n",
              "      <td>0</td>\n",
              "    </tr>\n",
              "    <tr>\n",
              "      <th>3</th>\n",
              "      <td>699</td>\n",
              "      <td>39</td>\n",
              "      <td>0.00</td>\n",
              "      <td>2</td>\n",
              "      <td>0</td>\n",
              "      <td>0</td>\n",
              "      <td>0</td>\n",
              "      <td>1</td>\n",
              "      <td>0</td>\n",
              "      <td>0</td>\n",
              "    </tr>\n",
              "    <tr>\n",
              "      <th>4</th>\n",
              "      <td>850</td>\n",
              "      <td>43</td>\n",
              "      <td>125510.82</td>\n",
              "      <td>1</td>\n",
              "      <td>1</td>\n",
              "      <td>0</td>\n",
              "      <td>0</td>\n",
              "      <td>0</td>\n",
              "      <td>0</td>\n",
              "      <td>1</td>\n",
              "    </tr>\n",
              "    <tr>\n",
              "      <th>...</th>\n",
              "      <td>...</td>\n",
              "      <td>...</td>\n",
              "      <td>...</td>\n",
              "      <td>...</td>\n",
              "      <td>...</td>\n",
              "      <td>...</td>\n",
              "      <td>...</td>\n",
              "      <td>...</td>\n",
              "      <td>...</td>\n",
              "      <td>...</td>\n",
              "    </tr>\n",
              "    <tr>\n",
              "      <th>9995</th>\n",
              "      <td>771</td>\n",
              "      <td>39</td>\n",
              "      <td>0.00</td>\n",
              "      <td>2</td>\n",
              "      <td>0</td>\n",
              "      <td>0</td>\n",
              "      <td>1</td>\n",
              "      <td>1</td>\n",
              "      <td>0</td>\n",
              "      <td>0</td>\n",
              "    </tr>\n",
              "    <tr>\n",
              "      <th>9996</th>\n",
              "      <td>516</td>\n",
              "      <td>35</td>\n",
              "      <td>57369.61</td>\n",
              "      <td>1</td>\n",
              "      <td>1</td>\n",
              "      <td>0</td>\n",
              "      <td>1</td>\n",
              "      <td>1</td>\n",
              "      <td>0</td>\n",
              "      <td>0</td>\n",
              "    </tr>\n",
              "    <tr>\n",
              "      <th>9997</th>\n",
              "      <td>709</td>\n",
              "      <td>36</td>\n",
              "      <td>0.00</td>\n",
              "      <td>1</td>\n",
              "      <td>1</td>\n",
              "      <td>1</td>\n",
              "      <td>0</td>\n",
              "      <td>1</td>\n",
              "      <td>0</td>\n",
              "      <td>0</td>\n",
              "    </tr>\n",
              "    <tr>\n",
              "      <th>9998</th>\n",
              "      <td>772</td>\n",
              "      <td>42</td>\n",
              "      <td>75075.31</td>\n",
              "      <td>2</td>\n",
              "      <td>0</td>\n",
              "      <td>1</td>\n",
              "      <td>1</td>\n",
              "      <td>0</td>\n",
              "      <td>1</td>\n",
              "      <td>0</td>\n",
              "    </tr>\n",
              "    <tr>\n",
              "      <th>9999</th>\n",
              "      <td>792</td>\n",
              "      <td>28</td>\n",
              "      <td>130142.79</td>\n",
              "      <td>1</td>\n",
              "      <td>0</td>\n",
              "      <td>0</td>\n",
              "      <td>0</td>\n",
              "      <td>1</td>\n",
              "      <td>0</td>\n",
              "      <td>0</td>\n",
              "    </tr>\n",
              "  </tbody>\n",
              "</table>\n",
              "<p>10000 rows × 10 columns</p>\n",
              "</div>"
            ],
            "text/plain": [
              "      CreditScore  Age  ...  Geography_Germany  Geography_Spain\n",
              "0             619   42  ...                  0                0\n",
              "1             608   41  ...                  0                1\n",
              "2             502   42  ...                  0                0\n",
              "3             699   39  ...                  0                0\n",
              "4             850   43  ...                  0                1\n",
              "...           ...  ...  ...                ...              ...\n",
              "9995          771   39  ...                  0                0\n",
              "9996          516   35  ...                  0                0\n",
              "9997          709   36  ...                  0                0\n",
              "9998          772   42  ...                  1                0\n",
              "9999          792   28  ...                  0                0\n",
              "\n",
              "[10000 rows x 10 columns]"
            ]
          },
          "metadata": {},
          "execution_count": 72
        }
      ]
    },
    {
      "cell_type": "markdown",
      "metadata": {
        "id": "IAd08PtFJ6_9"
      },
      "source": [
        "##Train-Test Split"
      ]
    },
    {
      "cell_type": "code",
      "metadata": {
        "id": "pwOnc28CQJe1"
      },
      "source": [
        "X = df.drop(columns=[ 'Exited'])\n",
        "y = df['Exited']\n",
        "\n",
        "from sklearn.model_selection import train_test_split\n",
        "X_train, X_test, y_train, y_test = train_test_split(X, y, test_size=0.2, random_state=121)"
      ],
      "execution_count": null,
      "outputs": []
    },
    {
      "cell_type": "markdown",
      "metadata": {
        "id": "ysT3GhciJwNj"
      },
      "source": [
        "##Scaling"
      ]
    },
    {
      "cell_type": "code",
      "metadata": {
        "id": "2z9akoTcR4Rd"
      },
      "source": [
        "from sklearn.preprocessing import StandardScaler\n",
        "scaler = StandardScaler()\n",
        "X_train = scaler.fit_transform(X_train)\n",
        "X_test = scaler.transform(X_test)\n",
        "\n",
        "X_train = pd.DataFrame(X_train, columns=X.columns)\n",
        "X_test = pd.DataFrame(X_test, columns=X.columns)"
      ],
      "execution_count": null,
      "outputs": []
    },
    {
      "cell_type": "markdown",
      "metadata": {
        "id": "g3UuFKH-J-3H"
      },
      "source": [
        "##Imbalance Dataset"
      ]
    },
    {
      "cell_type": "code",
      "metadata": {
        "id": "bqI9gjLBrCfo"
      },
      "source": [
        "from collections import Counter"
      ],
      "execution_count": null,
      "outputs": []
    },
    {
      "cell_type": "code",
      "metadata": {
        "colab": {
          "base_uri": "https://localhost:8080/"
        },
        "id": "ebr8RxNHrvBQ",
        "outputId": "b8f6af3a-f3f4-49c8-83d1-6fadc1a4eb60"
      },
      "source": [
        "Counter(y_train)"
      ],
      "execution_count": null,
      "outputs": [
        {
          "output_type": "execute_result",
          "data": {
            "text/plain": [
              "Counter({0: 6365, 1: 1635})"
            ]
          },
          "metadata": {},
          "execution_count": 76
        }
      ]
    },
    {
      "cell_type": "code",
      "metadata": {
        "colab": {
          "base_uri": "https://localhost:8080/"
        },
        "id": "OAkoGakC_bgE",
        "outputId": "dac1cbb1-bb1b-44ba-aeb0-97c3560a061f"
      },
      "source": [
        "from imblearn.under_sampling import RandomUnderSampler\n",
        "undersampling = RandomUnderSampler(sampling_strategy=0.5)\n",
        "X_under, y_under = undersampling.fit_resample(X_train,y_train)\n",
        "X_under = pd.DataFrame(X_under, columns=X.columns)"
      ],
      "execution_count": null,
      "outputs": [
        {
          "output_type": "stream",
          "name": "stderr",
          "text": [
            "/usr/local/lib/python3.7/dist-packages/sklearn/utils/deprecation.py:87: FutureWarning: Function safe_indexing is deprecated; safe_indexing is deprecated in version 0.22 and will be removed in version 0.24.\n",
            "  warnings.warn(msg, category=FutureWarning)\n"
          ]
        }
      ]
    },
    {
      "cell_type": "code",
      "metadata": {
        "id": "k9YZ6B9OsH_W"
      },
      "source": [
        "X_dummy = pd.get_dummies(X_under)\n",
        "X_dummy = X_dummy.fillna(0)"
      ],
      "execution_count": null,
      "outputs": []
    },
    {
      "cell_type": "code",
      "metadata": {
        "colab": {
          "base_uri": "https://localhost:8080/"
        },
        "id": "CTUowXgmrwwa",
        "outputId": "4da6fbb2-5adc-48d2-f089-5ec301c6a21e"
      },
      "source": [
        "from imblearn.over_sampling import SMOTE\n",
        "smote = SMOTE(sampling_strategy = 1)\n",
        "X_smote, y_smote = smote.fit_resample(X_dummy,y_under)"
      ],
      "execution_count": null,
      "outputs": [
        {
          "output_type": "stream",
          "name": "stderr",
          "text": [
            "/usr/local/lib/python3.7/dist-packages/sklearn/utils/deprecation.py:87: FutureWarning: Function safe_indexing is deprecated; safe_indexing is deprecated in version 0.22 and will be removed in version 0.24.\n",
            "  warnings.warn(msg, category=FutureWarning)\n"
          ]
        }
      ]
    },
    {
      "cell_type": "code",
      "metadata": {
        "colab": {
          "base_uri": "https://localhost:8080/"
        },
        "id": "-Mlgh_DFsdP9",
        "outputId": "d838c47a-53cb-40fb-b4e9-ae990611f750"
      },
      "source": [
        "Counter(y_smote)"
      ],
      "execution_count": null,
      "outputs": [
        {
          "output_type": "execute_result",
          "data": {
            "text/plain": [
              "Counter({0: 3270, 1: 3270})"
            ]
          },
          "metadata": {},
          "execution_count": 80
        }
      ]
    },
    {
      "cell_type": "code",
      "metadata": {
        "colab": {
          "base_uri": "https://localhost:8080/",
          "height": 423
        },
        "id": "jDPfU9wNZbJ8",
        "outputId": "c7a44acc-3b12-4e46-94a2-29b93849b502"
      },
      "source": [
        "X_smote = pd.DataFrame(X_smote, columns=X.columns)\n",
        "X_smote"
      ],
      "execution_count": null,
      "outputs": [
        {
          "output_type": "execute_result",
          "data": {
            "text/html": [
              "<div>\n",
              "<style scoped>\n",
              "    .dataframe tbody tr th:only-of-type {\n",
              "        vertical-align: middle;\n",
              "    }\n",
              "\n",
              "    .dataframe tbody tr th {\n",
              "        vertical-align: top;\n",
              "    }\n",
              "\n",
              "    .dataframe thead th {\n",
              "        text-align: right;\n",
              "    }\n",
              "</style>\n",
              "<table border=\"1\" class=\"dataframe\">\n",
              "  <thead>\n",
              "    <tr style=\"text-align: right;\">\n",
              "      <th></th>\n",
              "      <th>CreditScore</th>\n",
              "      <th>Age</th>\n",
              "      <th>Balance</th>\n",
              "      <th>NumOfProducts</th>\n",
              "      <th>IsActiveMember</th>\n",
              "      <th>Gender_Male</th>\n",
              "      <th>Geography_France</th>\n",
              "      <th>Geography_Germany</th>\n",
              "      <th>Geography_Spain</th>\n",
              "    </tr>\n",
              "  </thead>\n",
              "  <tbody>\n",
              "    <tr>\n",
              "      <th>0</th>\n",
              "      <td>-0.015286</td>\n",
              "      <td>0.755119</td>\n",
              "      <td>-1.223126</td>\n",
              "      <td>0.806566</td>\n",
              "      <td>0.964625</td>\n",
              "      <td>0.917399</td>\n",
              "      <td>1.00075</td>\n",
              "      <td>-0.577350</td>\n",
              "      <td>-0.577928</td>\n",
              "    </tr>\n",
              "    <tr>\n",
              "      <th>1</th>\n",
              "      <td>-1.085203</td>\n",
              "      <td>0.470865</td>\n",
              "      <td>0.824461</td>\n",
              "      <td>-0.912732</td>\n",
              "      <td>-1.036672</td>\n",
              "      <td>-1.090038</td>\n",
              "      <td>-0.99925</td>\n",
              "      <td>1.732051</td>\n",
              "      <td>-0.577928</td>\n",
              "    </tr>\n",
              "    <tr>\n",
              "      <th>2</th>\n",
              "      <td>-1.486422</td>\n",
              "      <td>0.091861</td>\n",
              "      <td>-1.223126</td>\n",
              "      <td>-0.912732</td>\n",
              "      <td>0.964625</td>\n",
              "      <td>-1.090038</td>\n",
              "      <td>1.00075</td>\n",
              "      <td>-0.577350</td>\n",
              "      <td>-0.577928</td>\n",
              "    </tr>\n",
              "    <tr>\n",
              "      <th>3</th>\n",
              "      <td>1.178083</td>\n",
              "      <td>-0.666147</td>\n",
              "      <td>1.636184</td>\n",
              "      <td>-0.912732</td>\n",
              "      <td>-1.036672</td>\n",
              "      <td>-1.090038</td>\n",
              "      <td>-0.99925</td>\n",
              "      <td>-0.577350</td>\n",
              "      <td>1.730320</td>\n",
              "    </tr>\n",
              "    <tr>\n",
              "      <th>4</th>\n",
              "      <td>0.252193</td>\n",
              "      <td>-0.002890</td>\n",
              "      <td>-1.223126</td>\n",
              "      <td>0.806566</td>\n",
              "      <td>-1.036672</td>\n",
              "      <td>0.917399</td>\n",
              "      <td>1.00075</td>\n",
              "      <td>-0.577350</td>\n",
              "      <td>-0.577928</td>\n",
              "    </tr>\n",
              "    <tr>\n",
              "      <th>...</th>\n",
              "      <td>...</td>\n",
              "      <td>...</td>\n",
              "      <td>...</td>\n",
              "      <td>...</td>\n",
              "      <td>...</td>\n",
              "      <td>...</td>\n",
              "      <td>...</td>\n",
              "      <td>...</td>\n",
              "      <td>...</td>\n",
              "    </tr>\n",
              "    <tr>\n",
              "      <th>6535</th>\n",
              "      <td>1.131772</td>\n",
              "      <td>-1.493082</td>\n",
              "      <td>0.735276</td>\n",
              "      <td>-0.912732</td>\n",
              "      <td>-1.036672</td>\n",
              "      <td>-1.090038</td>\n",
              "      <td>-0.99925</td>\n",
              "      <td>1.732051</td>\n",
              "      <td>-0.577928</td>\n",
              "    </tr>\n",
              "    <tr>\n",
              "      <th>6536</th>\n",
              "      <td>0.110168</td>\n",
              "      <td>-0.381894</td>\n",
              "      <td>0.604685</td>\n",
              "      <td>-0.912732</td>\n",
              "      <td>-1.036672</td>\n",
              "      <td>0.917399</td>\n",
              "      <td>-0.99925</td>\n",
              "      <td>1.732051</td>\n",
              "      <td>-0.577928</td>\n",
              "    </tr>\n",
              "    <tr>\n",
              "      <th>6537</th>\n",
              "      <td>0.318552</td>\n",
              "      <td>0.830237</td>\n",
              "      <td>0.545551</td>\n",
              "      <td>-0.912732</td>\n",
              "      <td>-1.036672</td>\n",
              "      <td>-1.090038</td>\n",
              "      <td>-0.99925</td>\n",
              "      <td>1.732051</td>\n",
              "      <td>-0.577928</td>\n",
              "    </tr>\n",
              "    <tr>\n",
              "      <th>6538</th>\n",
              "      <td>1.120924</td>\n",
              "      <td>0.243064</td>\n",
              "      <td>1.046346</td>\n",
              "      <td>2.525863</td>\n",
              "      <td>-1.036672</td>\n",
              "      <td>-1.090038</td>\n",
              "      <td>1.00075</td>\n",
              "      <td>-0.577350</td>\n",
              "      <td>-0.577928</td>\n",
              "    </tr>\n",
              "    <tr>\n",
              "      <th>6539</th>\n",
              "      <td>0.404397</td>\n",
              "      <td>0.194406</td>\n",
              "      <td>-0.004660</td>\n",
              "      <td>-0.912732</td>\n",
              "      <td>-1.036672</td>\n",
              "      <td>-1.090038</td>\n",
              "      <td>1.00075</td>\n",
              "      <td>-0.577350</td>\n",
              "      <td>-0.577928</td>\n",
              "    </tr>\n",
              "  </tbody>\n",
              "</table>\n",
              "<p>6540 rows × 9 columns</p>\n",
              "</div>"
            ],
            "text/plain": [
              "      CreditScore       Age  ...  Geography_Germany  Geography_Spain\n",
              "0       -0.015286  0.755119  ...          -0.577350        -0.577928\n",
              "1       -1.085203  0.470865  ...           1.732051        -0.577928\n",
              "2       -1.486422  0.091861  ...          -0.577350        -0.577928\n",
              "3        1.178083 -0.666147  ...          -0.577350         1.730320\n",
              "4        0.252193 -0.002890  ...          -0.577350        -0.577928\n",
              "...           ...       ...  ...                ...              ...\n",
              "6535     1.131772 -1.493082  ...           1.732051        -0.577928\n",
              "6536     0.110168 -0.381894  ...           1.732051        -0.577928\n",
              "6537     0.318552  0.830237  ...           1.732051        -0.577928\n",
              "6538     1.120924  0.243064  ...          -0.577350        -0.577928\n",
              "6539     0.404397  0.194406  ...          -0.577350        -0.577928\n",
              "\n",
              "[6540 rows x 9 columns]"
            ]
          },
          "metadata": {},
          "execution_count": 81
        }
      ]
    },
    {
      "cell_type": "markdown",
      "metadata": {
        "id": "68lvAUI65erv"
      },
      "source": [
        "#Modeling"
      ]
    },
    {
      "cell_type": "code",
      "metadata": {
        "id": "L_BXiWXesfNf"
      },
      "source": [
        "from sklearn.neighbors import KNeighborsClassifier\n",
        "from sklearn.tree import DecisionTreeClassifier\n",
        "from sklearn.ensemble import RandomForestClassifier\n",
        "from sklearn.metrics import confusion_matrix"
      ],
      "execution_count": null,
      "outputs": []
    },
    {
      "cell_type": "code",
      "metadata": {
        "id": "EHCqzjoh5qZM"
      },
      "source": [
        "def classification_eval (aktual, prediksi, name):\n",
        "    cm = confusion_matrix(aktual, prediksi)\n",
        "    tp = cm[1][1]\n",
        "    tn = cm[0][0]\n",
        "    fp = cm[0][1]\n",
        "    fn = cm[1][0]\n",
        "    \n",
        "    accuracy = round((tp+tn) / (tp+tn+fp+fn) * 100, 2)\n",
        "    precision = round((tp) / (tp+fp) * 100, 2)\n",
        "    recall = round((tp) / (tp+fn) * 100, 2)\n",
        "    specificity = round((tn) / (tn+fp) * 100, 2)\n",
        "    npv = round((tn) / (tn+fn) * 100, 2)\n",
        "    \n",
        "    print('Evaluation Model:', name)\n",
        "    print(cm)\n",
        "    print('Accuracy   :', accuracy, '%')\n",
        "    print('Precision  :', precision, '%')\n",
        "    print('Recall     :', recall, '%')\n",
        "    print('Specificity:', specificity, '%')\n",
        "    print('NPV        :', npv, '%')"
      ],
      "execution_count": null,
      "outputs": []
    },
    {
      "cell_type": "markdown",
      "metadata": {
        "id": "rxtVeJbAmyoO"
      },
      "source": [
        "## ANN"
      ]
    },
    {
      "cell_type": "code",
      "metadata": {
        "id": "9JsD-xzrmz6r"
      },
      "source": [
        "import numpy as np\n",
        "import pandas as pd\n",
        "import tensorflow as tf"
      ],
      "execution_count": null,
      "outputs": []
    },
    {
      "cell_type": "code",
      "metadata": {
        "id": "rERAYcYgm3jk"
      },
      "source": [
        "ann = tf.keras.models.Sequential()\n",
        "ann.add(tf.keras.layers.Dense(units=11, activation='relu'))\n",
        "ann.add(tf.keras.layers.Dropout(.2, input_shape=(11,)))\n",
        "ann.add(tf.keras.layers.Dense(units=11, activation='relu'))\n",
        "ann.add(tf.keras.layers.Dropout(.2, input_shape=(11,)))\n",
        "ann.add(tf.keras.layers.Dense(units=11, activation='relu'))\n",
        "ann.add(tf.keras.layers.Dropout(.2, input_shape=(11,)))\n",
        "ann.add(tf.keras.layers.Dense(units=1, activation='sigmoid'))\n",
        "ann.compile(optimizer = 'adam', loss = 'binary_crossentropy', metrics = ['accuracy'])"
      ],
      "execution_count": null,
      "outputs": []
    },
    {
      "cell_type": "code",
      "metadata": {
        "colab": {
          "base_uri": "https://localhost:8080/"
        },
        "id": "upPb0jvRm6ib",
        "outputId": "def27e59-5655-4ceb-fd01-ff8f8e274e19"
      },
      "source": [
        "ann.fit(X_smote, y_smote, batch_size = 32, epochs = 100)"
      ],
      "execution_count": null,
      "outputs": [
        {
          "output_type": "stream",
          "name": "stdout",
          "text": [
            "Epoch 1/100\n",
            "299/299 [==============================] - 2s 2ms/step - loss: 0.6260 - accuracy: 0.6668\n",
            "Epoch 2/100\n",
            "299/299 [==============================] - 1s 2ms/step - loss: 0.5689 - accuracy: 0.6849\n",
            "Epoch 3/100\n",
            "299/299 [==============================] - 1s 2ms/step - loss: 0.5482 - accuracy: 0.7115\n",
            "Epoch 4/100\n",
            "299/299 [==============================] - 1s 2ms/step - loss: 0.5331 - accuracy: 0.7170\n",
            "Epoch 5/100\n",
            "299/299 [==============================] - 1s 2ms/step - loss: 0.5284 - accuracy: 0.7293\n",
            "Epoch 6/100\n",
            "299/299 [==============================] - 1s 2ms/step - loss: 0.5195 - accuracy: 0.7376\n",
            "Epoch 7/100\n",
            "299/299 [==============================] - 1s 2ms/step - loss: 0.5175 - accuracy: 0.7397\n",
            "Epoch 8/100\n",
            "299/299 [==============================] - 0s 2ms/step - loss: 0.5108 - accuracy: 0.7520\n",
            "Epoch 9/100\n",
            "299/299 [==============================] - 1s 2ms/step - loss: 0.5010 - accuracy: 0.7604\n",
            "Epoch 10/100\n",
            "299/299 [==============================] - 0s 2ms/step - loss: 0.4944 - accuracy: 0.7637\n",
            "Epoch 11/100\n",
            "299/299 [==============================] - 1s 2ms/step - loss: 0.4980 - accuracy: 0.7638\n",
            "Epoch 12/100\n",
            "299/299 [==============================] - 1s 2ms/step - loss: 0.4929 - accuracy: 0.7642\n",
            "Epoch 13/100\n",
            "299/299 [==============================] - 1s 2ms/step - loss: 0.4905 - accuracy: 0.7659\n",
            "Epoch 14/100\n",
            "299/299 [==============================] - 0s 2ms/step - loss: 0.4798 - accuracy: 0.7730\n",
            "Epoch 15/100\n",
            "299/299 [==============================] - 1s 2ms/step - loss: 0.4798 - accuracy: 0.7784\n",
            "Epoch 16/100\n",
            "299/299 [==============================] - 1s 2ms/step - loss: 0.4772 - accuracy: 0.7730\n",
            "Epoch 17/100\n",
            "299/299 [==============================] - 1s 2ms/step - loss: 0.4694 - accuracy: 0.7861\n",
            "Epoch 18/100\n",
            "299/299 [==============================] - 1s 2ms/step - loss: 0.4640 - accuracy: 0.7868\n",
            "Epoch 19/100\n",
            "299/299 [==============================] - 1s 2ms/step - loss: 0.4636 - accuracy: 0.7907\n",
            "Epoch 20/100\n",
            "299/299 [==============================] - 1s 2ms/step - loss: 0.4658 - accuracy: 0.7951\n",
            "Epoch 21/100\n",
            "299/299 [==============================] - 1s 2ms/step - loss: 0.4617 - accuracy: 0.7862\n",
            "Epoch 22/100\n",
            "299/299 [==============================] - 1s 2ms/step - loss: 0.4611 - accuracy: 0.7942\n",
            "Epoch 23/100\n",
            "299/299 [==============================] - 1s 2ms/step - loss: 0.4562 - accuracy: 0.7974\n",
            "Epoch 24/100\n",
            "299/299 [==============================] - 1s 2ms/step - loss: 0.4552 - accuracy: 0.7957\n",
            "Epoch 25/100\n",
            "299/299 [==============================] - 1s 2ms/step - loss: 0.4526 - accuracy: 0.7983\n",
            "Epoch 26/100\n",
            "299/299 [==============================] - 1s 2ms/step - loss: 0.4519 - accuracy: 0.7960\n",
            "Epoch 27/100\n",
            "299/299 [==============================] - 1s 2ms/step - loss: 0.4554 - accuracy: 0.7957\n",
            "Epoch 28/100\n",
            "299/299 [==============================] - 1s 2ms/step - loss: 0.4551 - accuracy: 0.7916\n",
            "Epoch 29/100\n",
            "299/299 [==============================] - 1s 2ms/step - loss: 0.4467 - accuracy: 0.7945\n",
            "Epoch 30/100\n",
            "299/299 [==============================] - 1s 2ms/step - loss: 0.4543 - accuracy: 0.7978\n",
            "Epoch 31/100\n",
            "299/299 [==============================] - 1s 2ms/step - loss: 0.4489 - accuracy: 0.7994\n",
            "Epoch 32/100\n",
            "299/299 [==============================] - 1s 2ms/step - loss: 0.4515 - accuracy: 0.7995\n",
            "Epoch 33/100\n",
            "299/299 [==============================] - 1s 2ms/step - loss: 0.4487 - accuracy: 0.7951\n",
            "Epoch 34/100\n",
            "299/299 [==============================] - 1s 2ms/step - loss: 0.4494 - accuracy: 0.7963\n",
            "Epoch 35/100\n",
            "299/299 [==============================] - 1s 2ms/step - loss: 0.4438 - accuracy: 0.8044\n",
            "Epoch 36/100\n",
            "299/299 [==============================] - 1s 2ms/step - loss: 0.4475 - accuracy: 0.7995\n",
            "Epoch 37/100\n",
            "299/299 [==============================] - 1s 2ms/step - loss: 0.4457 - accuracy: 0.7982\n",
            "Epoch 38/100\n",
            "299/299 [==============================] - 1s 2ms/step - loss: 0.4463 - accuracy: 0.7974\n",
            "Epoch 39/100\n",
            "299/299 [==============================] - 1s 2ms/step - loss: 0.4510 - accuracy: 0.7971\n",
            "Epoch 40/100\n",
            "299/299 [==============================] - 1s 2ms/step - loss: 0.4457 - accuracy: 0.7971\n",
            "Epoch 41/100\n",
            "299/299 [==============================] - 1s 2ms/step - loss: 0.4467 - accuracy: 0.7979\n",
            "Epoch 42/100\n",
            "299/299 [==============================] - 1s 2ms/step - loss: 0.4460 - accuracy: 0.7982\n",
            "Epoch 43/100\n",
            "299/299 [==============================] - 1s 2ms/step - loss: 0.4466 - accuracy: 0.7975\n",
            "Epoch 44/100\n",
            "299/299 [==============================] - 1s 2ms/step - loss: 0.4479 - accuracy: 0.8006\n",
            "Epoch 45/100\n",
            "299/299 [==============================] - 1s 2ms/step - loss: 0.4438 - accuracy: 0.8007\n",
            "Epoch 46/100\n",
            "299/299 [==============================] - 1s 2ms/step - loss: 0.4438 - accuracy: 0.7975\n",
            "Epoch 47/100\n",
            "299/299 [==============================] - 1s 2ms/step - loss: 0.4379 - accuracy: 0.8021\n",
            "Epoch 48/100\n",
            "299/299 [==============================] - 0s 2ms/step - loss: 0.4422 - accuracy: 0.8019\n",
            "Epoch 49/100\n",
            "299/299 [==============================] - 1s 2ms/step - loss: 0.4376 - accuracy: 0.8005\n",
            "Epoch 50/100\n",
            "299/299 [==============================] - 1s 2ms/step - loss: 0.4448 - accuracy: 0.8009\n",
            "Epoch 51/100\n",
            "299/299 [==============================] - 1s 2ms/step - loss: 0.4405 - accuracy: 0.8040\n",
            "Epoch 52/100\n",
            "299/299 [==============================] - 1s 2ms/step - loss: 0.4465 - accuracy: 0.8017\n",
            "Epoch 53/100\n",
            "299/299 [==============================] - 1s 2ms/step - loss: 0.4370 - accuracy: 0.8049\n",
            "Epoch 54/100\n",
            "299/299 [==============================] - 1s 2ms/step - loss: 0.4387 - accuracy: 0.8033\n",
            "Epoch 55/100\n",
            "299/299 [==============================] - 1s 2ms/step - loss: 0.4379 - accuracy: 0.8028\n",
            "Epoch 56/100\n",
            "299/299 [==============================] - 1s 2ms/step - loss: 0.4410 - accuracy: 0.7999\n",
            "Epoch 57/100\n",
            "299/299 [==============================] - 1s 2ms/step - loss: 0.4360 - accuracy: 0.8026\n",
            "Epoch 58/100\n",
            "299/299 [==============================] - 1s 2ms/step - loss: 0.4415 - accuracy: 0.7978\n",
            "Epoch 59/100\n",
            "299/299 [==============================] - 1s 2ms/step - loss: 0.4401 - accuracy: 0.8040\n",
            "Epoch 60/100\n",
            "299/299 [==============================] - 1s 2ms/step - loss: 0.4413 - accuracy: 0.7990\n",
            "Epoch 61/100\n",
            "299/299 [==============================] - 1s 2ms/step - loss: 0.4382 - accuracy: 0.8042\n",
            "Epoch 62/100\n",
            "299/299 [==============================] - 1s 2ms/step - loss: 0.4395 - accuracy: 0.8020\n",
            "Epoch 63/100\n",
            "299/299 [==============================] - 1s 2ms/step - loss: 0.4400 - accuracy: 0.8018\n",
            "Epoch 64/100\n",
            "299/299 [==============================] - 1s 2ms/step - loss: 0.4409 - accuracy: 0.7988\n",
            "Epoch 65/100\n",
            "299/299 [==============================] - 1s 2ms/step - loss: 0.4419 - accuracy: 0.8023\n",
            "Epoch 66/100\n",
            "299/299 [==============================] - 1s 2ms/step - loss: 0.4373 - accuracy: 0.8032\n",
            "Epoch 67/100\n",
            "299/299 [==============================] - 0s 2ms/step - loss: 0.4388 - accuracy: 0.8028\n",
            "Epoch 68/100\n",
            "299/299 [==============================] - 1s 2ms/step - loss: 0.4390 - accuracy: 0.8011\n",
            "Epoch 69/100\n",
            "299/299 [==============================] - 1s 2ms/step - loss: 0.4360 - accuracy: 0.8037\n",
            "Epoch 70/100\n",
            "299/299 [==============================] - 1s 2ms/step - loss: 0.4392 - accuracy: 0.8020\n",
            "Epoch 71/100\n",
            "299/299 [==============================] - 0s 2ms/step - loss: 0.4424 - accuracy: 0.7985\n",
            "Epoch 72/100\n",
            "299/299 [==============================] - 1s 2ms/step - loss: 0.4385 - accuracy: 0.8013\n",
            "Epoch 73/100\n",
            "299/299 [==============================] - 1s 2ms/step - loss: 0.4345 - accuracy: 0.8013\n",
            "Epoch 74/100\n",
            "299/299 [==============================] - 1s 2ms/step - loss: 0.4335 - accuracy: 0.8047\n",
            "Epoch 75/100\n",
            "299/299 [==============================] - 1s 2ms/step - loss: 0.4361 - accuracy: 0.8052\n",
            "Epoch 76/100\n",
            "299/299 [==============================] - 1s 2ms/step - loss: 0.4387 - accuracy: 0.8067\n",
            "Epoch 77/100\n",
            "299/299 [==============================] - 1s 2ms/step - loss: 0.4390 - accuracy: 0.8017\n",
            "Epoch 78/100\n",
            "299/299 [==============================] - 1s 2ms/step - loss: 0.4412 - accuracy: 0.7984\n",
            "Epoch 79/100\n",
            "299/299 [==============================] - 1s 2ms/step - loss: 0.4336 - accuracy: 0.8042\n",
            "Epoch 80/100\n",
            "299/299 [==============================] - 1s 2ms/step - loss: 0.4345 - accuracy: 0.8034\n",
            "Epoch 81/100\n",
            "299/299 [==============================] - 1s 2ms/step - loss: 0.4401 - accuracy: 0.8011\n",
            "Epoch 82/100\n",
            "299/299 [==============================] - 0s 2ms/step - loss: 0.4421 - accuracy: 0.8041\n",
            "Epoch 83/100\n",
            "299/299 [==============================] - 1s 2ms/step - loss: 0.4353 - accuracy: 0.8058\n",
            "Epoch 84/100\n",
            "299/299 [==============================] - 1s 2ms/step - loss: 0.4394 - accuracy: 0.8000\n",
            "Epoch 85/100\n",
            "299/299 [==============================] - 1s 2ms/step - loss: 0.4345 - accuracy: 0.8077\n",
            "Epoch 86/100\n",
            "299/299 [==============================] - 1s 2ms/step - loss: 0.4346 - accuracy: 0.8001\n",
            "Epoch 87/100\n",
            "299/299 [==============================] - 1s 2ms/step - loss: 0.4408 - accuracy: 0.7977\n",
            "Epoch 88/100\n",
            "299/299 [==============================] - 1s 2ms/step - loss: 0.4395 - accuracy: 0.8054\n",
            "Epoch 89/100\n",
            "299/299 [==============================] - 1s 2ms/step - loss: 0.4408 - accuracy: 0.8023\n",
            "Epoch 90/100\n",
            "299/299 [==============================] - 1s 2ms/step - loss: 0.4348 - accuracy: 0.8044\n",
            "Epoch 91/100\n",
            "299/299 [==============================] - 1s 2ms/step - loss: 0.4328 - accuracy: 0.8052\n",
            "Epoch 92/100\n",
            "299/299 [==============================] - 1s 2ms/step - loss: 0.4366 - accuracy: 0.8019\n",
            "Epoch 93/100\n",
            "299/299 [==============================] - 1s 2ms/step - loss: 0.4352 - accuracy: 0.8037\n",
            "Epoch 94/100\n",
            "299/299 [==============================] - 1s 2ms/step - loss: 0.4367 - accuracy: 0.8047\n",
            "Epoch 95/100\n",
            "299/299 [==============================] - 1s 2ms/step - loss: 0.4373 - accuracy: 0.8026\n",
            "Epoch 96/100\n",
            "299/299 [==============================] - 1s 2ms/step - loss: 0.4348 - accuracy: 0.8038\n",
            "Epoch 97/100\n",
            "299/299 [==============================] - 0s 2ms/step - loss: 0.4371 - accuracy: 0.8053\n",
            "Epoch 98/100\n",
            "299/299 [==============================] - 1s 2ms/step - loss: 0.4430 - accuracy: 0.8055\n",
            "Epoch 99/100\n",
            "299/299 [==============================] - 1s 2ms/step - loss: 0.4338 - accuracy: 0.8060\n",
            "Epoch 100/100\n",
            "299/299 [==============================] - 1s 2ms/step - loss: 0.4369 - accuracy: 0.8070\n"
          ]
        },
        {
          "output_type": "execute_result",
          "data": {
            "text/plain": [
              "<keras.callbacks.History at 0x7ff861762e90>"
            ]
          },
          "metadata": {},
          "execution_count": 29
        }
      ]
    },
    {
      "cell_type": "code",
      "metadata": {
        "colab": {
          "base_uri": "https://localhost:8080/"
        },
        "id": "nbaKiQA5nF5W",
        "outputId": "1aa39552-4bf1-4089-d1b3-43a9d30d99d2"
      },
      "source": [
        "y_test_pred_smote = ann.predict(X_test)\n",
        "y_test_pred_smote = [0 if i < 0.5 else 1 for i in y_test_pred_smote]\n",
        "\n",
        "compare = pd.DataFrame(np.array(y_test), columns=['Actual'])\n",
        "compare['Predicted'] = y_test_pred_smote\n",
        "# Testing Performance\n",
        "classification_eval(y_test, y_test_pred_smote, 'ANN Testing Perf.')"
      ],
      "execution_count": null,
      "outputs": [
        {
          "output_type": "stream",
          "name": "stdout",
          "text": [
            "Evaluation Model: ANN Testing Perf.\n",
            "[[1463  135]\n",
            " [ 183  219]]\n",
            "Accuracy   : 84.1 %\n",
            "Precision  : 61.86 %\n",
            "Recall     : 54.48 %\n",
            "Specificity: 91.55 %\n",
            "NPV        : 88.88 %\n"
          ]
        }
      ]
    },
    {
      "cell_type": "markdown",
      "metadata": {
        "id": "bNaZg40NDSfV"
      },
      "source": [
        "## XGBoost"
      ]
    },
    {
      "cell_type": "code",
      "metadata": {
        "colab": {
          "base_uri": "https://localhost:8080/"
        },
        "id": "uwczbIUf_qZa",
        "outputId": "8592c2c6-d8ff-4e68-bd43-35efb4e8048c"
      },
      "source": [
        "import xgboost as xgb\n",
        "from sklearn.calibration import CalibratedClassifierCV\n",
        "\n",
        "\n",
        "clf = xgb.XGBClassifier(base_score=0.5, colsample_bylevel=1, colsample_bytree=1,\n",
        "       gamma=0, learning_rate=0.1, max_delta_step=0,\n",
        "       max_depth=10, min_child_weight=1, missing=None,\n",
        "       n_estimators=100, nthread=-1, objective='binary:logistic',\n",
        "       reg_alpha=0, reg_lambda=1, scale_pos_weight=1, seed=0, silent=True,\n",
        "       subsample=1)\n",
        "clf = CalibratedClassifierCV(clf, method='isotonic', cv=2)\n",
        "clf.fit(X_smote, y_smote)\n"
      ],
      "execution_count": null,
      "outputs": [
        {
          "output_type": "execute_result",
          "data": {
            "text/plain": [
              "CalibratedClassifierCV(base_estimator=XGBClassifier(base_score=0.5,\n",
              "                                                    booster='gbtree',\n",
              "                                                    colsample_bylevel=1,\n",
              "                                                    colsample_bynode=1,\n",
              "                                                    colsample_bytree=1, gamma=0,\n",
              "                                                    learning_rate=0.1,\n",
              "                                                    max_delta_step=0,\n",
              "                                                    max_depth=10,\n",
              "                                                    min_child_weight=1,\n",
              "                                                    missing=None,\n",
              "                                                    n_estimators=100, n_jobs=1,\n",
              "                                                    nthread=-1,\n",
              "                                                    objective='binary:logistic',\n",
              "                                                    random_state=0, reg_alpha=0,\n",
              "                                                    reg_lambda=1,\n",
              "                                                    scale_pos_weight=1, seed=0,\n",
              "                                                    silent=True, subsample=1,\n",
              "                                                    verbosity=1),\n",
              "                       cv=2, method='isotonic')"
            ]
          },
          "metadata": {},
          "execution_count": 82
        }
      ]
    },
    {
      "cell_type": "code",
      "metadata": {
        "colab": {
          "base_uri": "https://localhost:8080/"
        },
        "id": "RWE96Y9KDG87",
        "outputId": "d0bfc930-3ce9-4951-df4b-03ee782fde2f"
      },
      "source": [
        "y_pred_test = clf.predict(X_test)\n",
        "classification_eval(y_test, y_pred_test,\"XGBoost Testing Perf.\")"
      ],
      "execution_count": null,
      "outputs": [
        {
          "output_type": "stream",
          "name": "stdout",
          "text": [
            "Evaluation Model: XGBoost Testing Perf.\n",
            "[[1297  301]\n",
            " [ 118  284]]\n",
            "Accuracy   : 79.05 %\n",
            "Precision  : 48.55 %\n",
            "Recall     : 70.65 %\n",
            "Specificity: 81.16 %\n",
            "NPV        : 91.66 %\n"
          ]
        }
      ]
    },
    {
      "cell_type": "code",
      "metadata": {
        "colab": {
          "base_uri": "https://localhost:8080/"
        },
        "id": "wEd0CtZNAB04",
        "outputId": "ef473720-692a-44e9-cff3-8ba490756ae5"
      },
      "source": [
        "y_pred_train = clf.predict(X_smote)\n",
        "classification_eval(y_smote, y_pred_train,\"XGBoost Training Perf.\")"
      ],
      "execution_count": null,
      "outputs": [
        {
          "output_type": "stream",
          "name": "stdout",
          "text": [
            "Evaluation Model: XGBoost Training Perf.\n",
            "[[2992  278]\n",
            " [ 258 3012]]\n",
            "Accuracy   : 91.8 %\n",
            "Precision  : 91.55 %\n",
            "Recall     : 92.11 %\n",
            "Specificity: 91.5 %\n",
            "NPV        : 92.06 %\n"
          ]
        }
      ]
    }
  ]
}